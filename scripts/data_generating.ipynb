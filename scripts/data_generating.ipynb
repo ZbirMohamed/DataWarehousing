{
 "cells": [
  {
   "cell_type": "code",
   "execution_count": null,
   "metadata": {},
   "outputs": [],
   "source": [
    "import pandas as pd\n",
    "import numpy as np\n",
    "from utilities import add_noise"
   ]
  },
  {
   "cell_type": "code",
   "execution_count": 53,
   "metadata": {},
   "outputs": [
    {
     "data": {
      "text/html": [
       "<div>\n",
       "<style scoped>\n",
       "    .dataframe tbody tr th:only-of-type {\n",
       "        vertical-align: middle;\n",
       "    }\n",
       "\n",
       "    .dataframe tbody tr th {\n",
       "        vertical-align: top;\n",
       "    }\n",
       "\n",
       "    .dataframe thead th {\n",
       "        text-align: right;\n",
       "    }\n",
       "</style>\n",
       "<table border=\"1\" class=\"dataframe\">\n",
       "  <thead>\n",
       "    <tr style=\"text-align: right;\">\n",
       "      <th></th>\n",
       "      <th>TransactionNo</th>\n",
       "      <th>Date</th>\n",
       "      <th>ProductNo</th>\n",
       "      <th>ProductName</th>\n",
       "      <th>Price</th>\n",
       "      <th>Quantity</th>\n",
       "      <th>CustomerNo</th>\n",
       "      <th>Country</th>\n",
       "    </tr>\n",
       "  </thead>\n",
       "  <tbody>\n",
       "    <tr>\n",
       "      <th>0</th>\n",
       "      <td>581482</td>\n",
       "      <td>12/9/2019</td>\n",
       "      <td>22485</td>\n",
       "      <td>Set Of 2 Wooden Market Crates</td>\n",
       "      <td>21.47</td>\n",
       "      <td>12</td>\n",
       "      <td>17490.0</td>\n",
       "      <td>United Kingdom</td>\n",
       "    </tr>\n",
       "    <tr>\n",
       "      <th>1</th>\n",
       "      <td>581475</td>\n",
       "      <td>12/9/2019</td>\n",
       "      <td>22596</td>\n",
       "      <td>Christmas Star Wish List Chalkboard</td>\n",
       "      <td>10.65</td>\n",
       "      <td>36</td>\n",
       "      <td>13069.0</td>\n",
       "      <td>United Kingdom</td>\n",
       "    </tr>\n",
       "    <tr>\n",
       "      <th>2</th>\n",
       "      <td>581475</td>\n",
       "      <td>12/9/2019</td>\n",
       "      <td>23235</td>\n",
       "      <td>Storage Tin Vintage Leaf</td>\n",
       "      <td>11.53</td>\n",
       "      <td>12</td>\n",
       "      <td>13069.0</td>\n",
       "      <td>United Kingdom</td>\n",
       "    </tr>\n",
       "    <tr>\n",
       "      <th>3</th>\n",
       "      <td>581475</td>\n",
       "      <td>12/9/2019</td>\n",
       "      <td>23272</td>\n",
       "      <td>Tree T-Light Holder Willie Winkie</td>\n",
       "      <td>10.65</td>\n",
       "      <td>12</td>\n",
       "      <td>13069.0</td>\n",
       "      <td>United Kingdom</td>\n",
       "    </tr>\n",
       "    <tr>\n",
       "      <th>4</th>\n",
       "      <td>581475</td>\n",
       "      <td>12/9/2019</td>\n",
       "      <td>23239</td>\n",
       "      <td>Set Of 4 Knick Knack Tins Poppies</td>\n",
       "      <td>11.94</td>\n",
       "      <td>6</td>\n",
       "      <td>13069.0</td>\n",
       "      <td>United Kingdom</td>\n",
       "    </tr>\n",
       "  </tbody>\n",
       "</table>\n",
       "</div>"
      ],
      "text/plain": [
       "  TransactionNo       Date ProductNo                          ProductName  \\\n",
       "0        581482  12/9/2019     22485        Set Of 2 Wooden Market Crates   \n",
       "1        581475  12/9/2019     22596  Christmas Star Wish List Chalkboard   \n",
       "2        581475  12/9/2019     23235             Storage Tin Vintage Leaf   \n",
       "3        581475  12/9/2019     23272    Tree T-Light Holder Willie Winkie   \n",
       "4        581475  12/9/2019     23239    Set Of 4 Knick Knack Tins Poppies   \n",
       "\n",
       "   Price  Quantity  CustomerNo         Country  \n",
       "0  21.47        12     17490.0  United Kingdom  \n",
       "1  10.65        36     13069.0  United Kingdom  \n",
       "2  11.53        12     13069.0  United Kingdom  \n",
       "3  10.65        12     13069.0  United Kingdom  \n",
       "4  11.94         6     13069.0  United Kingdom  "
      ]
     },
     "execution_count": 53,
     "metadata": {},
     "output_type": "execute_result"
    }
   ],
   "source": [
    "data = pd.read_csv('../data/Sales.csv')\n",
    "data.head()\n",
    "## let's use this simple data to make a data warehouse ##\n",
    "\n",
    "## from this data I'll be making muliple data dimensions that I'll use as data sources ##\n",
    "\n",
    "##I'll use the customer.NO to get my self cutomers ## [Mokaroo for customers generation]\n",
    "##And for the products I'll further add data []\n",
    "##And I'll modify the transaction to make more fact like"
   ]
  },
  {
   "cell_type": "code",
   "execution_count": 54,
   "metadata": {},
   "outputs": [
    {
     "data": {
      "text/plain": [
       "count    536295.000000\n",
       "mean      15227.893178\n",
       "std        1716.582932\n",
       "min       12004.000000\n",
       "25%       13807.000000\n",
       "50%       15152.000000\n",
       "75%       16729.000000\n",
       "max       18287.000000\n",
       "Name: CustomerNo, dtype: float64"
      ]
     },
     "execution_count": 54,
     "metadata": {},
     "output_type": "execute_result"
    }
   ],
   "source": [
    "### STEP 1 ## Generating Customers\n",
    "data['CustomerNo'].describe()\n",
    "## min ID == 12004\n",
    "## max ID == 18287\n",
    "\n",
    "## CustomerNo Type == float() --> must be altered to int (I'll do it in the silver layer)\n",
    "\n",
    "### Customer Model ###\n",
    "\n",
    "# fname, lname, email, phone, gender #\n",
    "\n",
    "## I'll deposit the data generated in the data folder ##\n",
    "\n",
    "\n",
    "## !!! There'll be less customers and unfounded one's so even if we can use the No on the sales table no problem\n"
   ]
  },
  {
   "cell_type": "code",
   "execution_count": 55,
   "metadata": {},
   "outputs": [
    {
     "data": {
      "text/html": [
       "<div>\n",
       "<style scoped>\n",
       "    .dataframe tbody tr th:only-of-type {\n",
       "        vertical-align: middle;\n",
       "    }\n",
       "\n",
       "    .dataframe tbody tr th {\n",
       "        vertical-align: top;\n",
       "    }\n",
       "\n",
       "    .dataframe thead th {\n",
       "        text-align: right;\n",
       "    }\n",
       "</style>\n",
       "<table border=\"1\" class=\"dataframe\">\n",
       "  <thead>\n",
       "    <tr style=\"text-align: right;\">\n",
       "      <th></th>\n",
       "      <th>ProductNo</th>\n",
       "      <th>ProductName</th>\n",
       "      <th>Price</th>\n",
       "    </tr>\n",
       "  </thead>\n",
       "  <tbody>\n",
       "    <tr>\n",
       "      <th>0</th>\n",
       "      <td>10002</td>\n",
       "      <td>Inflatable Political Globe</td>\n",
       "      <td>71</td>\n",
       "    </tr>\n",
       "    <tr>\n",
       "      <th>1</th>\n",
       "      <td>10080</td>\n",
       "      <td>Groovy Cactus Inflatable</td>\n",
       "      <td>22</td>\n",
       "    </tr>\n",
       "    <tr>\n",
       "      <th>2</th>\n",
       "      <td>10120</td>\n",
       "      <td>Doggy Rubber</td>\n",
       "      <td>30</td>\n",
       "    </tr>\n",
       "    <tr>\n",
       "      <th>3</th>\n",
       "      <td>10123C</td>\n",
       "      <td>Hearts Wrapping Tape</td>\n",
       "      <td>3</td>\n",
       "    </tr>\n",
       "    <tr>\n",
       "      <th>4</th>\n",
       "      <td>10124A</td>\n",
       "      <td>Spots On Red Bookcover Tape</td>\n",
       "      <td>5</td>\n",
       "    </tr>\n",
       "  </tbody>\n",
       "</table>\n",
       "</div>"
      ],
      "text/plain": [
       "  ProductNo                  ProductName  Price\n",
       "0     10002   Inflatable Political Globe     71\n",
       "1     10080     Groovy Cactus Inflatable     22\n",
       "2     10120                 Doggy Rubber     30\n",
       "3    10123C         Hearts Wrapping Tape      3\n",
       "4    10124A  Spots On Red Bookcover Tape      5"
      ]
     },
     "execution_count": 55,
     "metadata": {},
     "output_type": "execute_result"
    }
   ],
   "source": [
    "#### STEP 2 ### Product Table (To CSV) \n",
    "products = data.groupby(['ProductNo', 'ProductName']).size().reset_index(name='Price')\n",
    "products.head()"
   ]
  },
  {
   "cell_type": "code",
   "execution_count": null,
   "metadata": {},
   "outputs": [],
   "source": [
    "### Though it might not be clear Is still usefull to my project ###\n",
    "## This are just random categories they'll not be correcte just to add a touch in the gold layer\n",
    "categories = [\n",
    "    'Smartphones',\n",
    "    'Tablettes',\n",
    "    'Laptops',\n",
    "    'Accessoires',\n",
    "    'Montres connectées',\n",
    "    'Vêtements',\n",
    "    'Chaussures',\n",
    "    'Sacs',\n",
    "    'Bijoux',\n",
    "    'Meubles',\n",
    "    'Décoration',\n",
    "    'Jardinage',\n",
    "    'Électroménager',\n",
    "    'Luminaires',\n",
    "    'Frais',\n",
    "    'Conserves',\n",
    "    'Snacks',\n",
    "    'Boissons',\n",
    "    'Produits bio',\n",
    "    'Soins de la peau',\n",
    "    'Maquillage',\n",
    "    'Parfumerie',\n",
    "    'Cheveux',\n",
    "    'Soins corporels',\n",
    "    'Vêtements de sport',\n",
    "    'Équipements',\n",
    "    'Accessoires de fitness',\n",
    "    'Nutrition sportive',\n",
    "    'Balles et raquettes',\n",
    "    'Jouets éducatifs',\n",
    "    'Jeux de société',\n",
    "    'Jeux vidéo',\n",
    "    'Dolls and Action Figures'\n",
    "]\n",
    "\n",
    "products['Category'] = np.random.choice(categories, size=len(products)) \n",
    "products.to_csv('../data/Products.csv',index=False)"
   ]
  },
  {
   "cell_type": "code",
   "execution_count": 60,
   "metadata": {},
   "outputs": [],
   "source": [
    "### STEP 3 Enhancing our Sales csv ###\n",
    "data = data.drop('ProductName',axis=1)"
   ]
  },
  {
   "cell_type": "code",
   "execution_count": 61,
   "metadata": {},
   "outputs": [],
   "source": [
    "## adding a shipping date ##\n",
    "data['date_shippped'] = pd.to_datetime(data['Date'], errors='coerce')\n",
    "random_days = np.random.randint(1, 21, size=len(data))\n"
   ]
  },
  {
   "cell_type": "code",
   "execution_count": 62,
   "metadata": {},
   "outputs": [],
   "source": [
    "data['date_shippped'] = data['date_shippped'] + pd.to_timedelta(random_days, unit='D')"
   ]
  },
  {
   "cell_type": "code",
   "execution_count": 63,
   "metadata": {},
   "outputs": [],
   "source": [
    "statuses = ['Pending', 'Completed', 'Cancelled', 'Processing']\n",
    "data['status'] = np.random.choice(statuses, size=len(data))"
   ]
  },
  {
   "cell_type": "code",
   "execution_count": 64,
   "metadata": {},
   "outputs": [],
   "source": [
    "data.loc[data['status'].isin(['Pending','Processing','Cancelled']),'date_shippped'] = None"
   ]
  },
  {
   "cell_type": "code",
   "execution_count": 66,
   "metadata": {},
   "outputs": [],
   "source": [
    "data.to_csv('../data/cleaned_sales.csv',index=False)"
   ]
  },
  {
   "cell_type": "code",
   "execution_count": null,
   "metadata": {},
   "outputs": [],
   "source": [
    "data['Country'] = data['Country'].apply(add_noise)"
   ]
  },
  {
   "cell_type": "code",
   "execution_count": 70,
   "metadata": {},
   "outputs": [],
   "source": [
    "data = data.drop('Country',axis=1)"
   ]
  },
  {
   "cell_type": "code",
   "execution_count": 72,
   "metadata": {},
   "outputs": [],
   "source": [
    "data.to_csv('../data/dirty_sales.csv',index=False)"
   ]
  }
 ],
 "metadata": {
  "kernelspec": {
   "display_name": "env",
   "language": "python",
   "name": "python3"
  },
  "language_info": {
   "codemirror_mode": {
    "name": "ipython",
    "version": 3
   },
   "file_extension": ".py",
   "mimetype": "text/x-python",
   "name": "python",
   "nbconvert_exporter": "python",
   "pygments_lexer": "ipython3",
   "version": "3.13.1"
  }
 },
 "nbformat": 4,
 "nbformat_minor": 2
}
