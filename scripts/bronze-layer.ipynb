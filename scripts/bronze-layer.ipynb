{
 "cells": [
  {
   "cell_type": "code",
   "execution_count": 6,
   "metadata": {
    "ExecuteTime": {
     "end_time": "2025-03-08T20:48:29.953124Z",
     "start_time": "2025-03-08T20:48:29.911333Z"
    }
   },
   "outputs": [
    {
     "data": {
      "text/plain": "True"
     },
     "execution_count": 6,
     "metadata": {},
     "output_type": "execute_result"
    }
   ],
   "source": [
    "import pandas as pd\n",
    "from database import engine_maker\n",
    "import os\n",
    "from dotenv import load_dotenv\n",
    "load_dotenv()"
   ]
  },
  {
   "cell_type": "markdown",
   "metadata": {},
   "source": [
    "We Will use the data as followes :\n",
    "    \n",
    "    1- Sales : dirty_sales.csv\n",
    "    2- Customers : Customers.csv\n",
    "    3- Products : Products.csv\n",
    "\n",
    "The sales was altered to have some unclear and dirty values that requires some cleaning to further simulate a true cleaning stage.\n",
    "\n",
    "We'll first deposit our source data in our databases, and we'll in the future add more simulation to it by adding some data in a customized api, and some source database."
   ]
  },
  {
   "cell_type": "markdown",
   "metadata": {},
   "source": []
  },
  {
   "cell_type": "code",
   "execution_count": 2,
   "metadata": {
    "ExecuteTime": {
     "end_time": "2025-03-08T20:44:27.307129Z",
     "start_time": "2025-03-08T20:44:26.809548Z"
    }
   },
   "outputs": [],
   "source": [
    "prod = pd.read_csv('../data/Products.csv')\n",
    "cust = pd.read_csv('../data/Customers.csv')\n",
    "sales = pd.read_csv('../data/dirty_sales.csv')"
   ]
  },
  {
   "cell_type": "code",
   "outputs": [
    {
     "data": {
      "text/plain": "  ProductNo                  ProductName  Price          Category\n0     10002   Inflatable Political Globe     71    Électroménager\n1     10080     Groovy Cactus Inflatable     22  Jouets éducatifs\n2     10120                 Doggy Rubber     30            Snacks\n3    10123C         Hearts Wrapping Tape      3         Tablettes\n4    10124A  Spots On Red Bookcover Tape      5            Bijoux",
      "text/html": "<div>\n<style scoped>\n    .dataframe tbody tr th:only-of-type {\n        vertical-align: middle;\n    }\n\n    .dataframe tbody tr th {\n        vertical-align: top;\n    }\n\n    .dataframe thead th {\n        text-align: right;\n    }\n</style>\n<table border=\"1\" class=\"dataframe\">\n  <thead>\n    <tr style=\"text-align: right;\">\n      <th></th>\n      <th>ProductNo</th>\n      <th>ProductName</th>\n      <th>Price</th>\n      <th>Category</th>\n    </tr>\n  </thead>\n  <tbody>\n    <tr>\n      <th>0</th>\n      <td>10002</td>\n      <td>Inflatable Political Globe</td>\n      <td>71</td>\n      <td>Électroménager</td>\n    </tr>\n    <tr>\n      <th>1</th>\n      <td>10080</td>\n      <td>Groovy Cactus Inflatable</td>\n      <td>22</td>\n      <td>Jouets éducatifs</td>\n    </tr>\n    <tr>\n      <th>2</th>\n      <td>10120</td>\n      <td>Doggy Rubber</td>\n      <td>30</td>\n      <td>Snacks</td>\n    </tr>\n    <tr>\n      <th>3</th>\n      <td>10123C</td>\n      <td>Hearts Wrapping Tape</td>\n      <td>3</td>\n      <td>Tablettes</td>\n    </tr>\n    <tr>\n      <th>4</th>\n      <td>10124A</td>\n      <td>Spots On Red Bookcover Tape</td>\n      <td>5</td>\n      <td>Bijoux</td>\n    </tr>\n  </tbody>\n</table>\n</div>"
     },
     "execution_count": 3,
     "metadata": {},
     "output_type": "execute_result"
    }
   ],
   "source": [
    "prod.head()"
   ],
   "metadata": {
    "collapsed": false,
    "ExecuteTime": {
     "end_time": "2025-03-08T20:44:31.470866Z",
     "start_time": "2025-03-08T20:44:31.452929Z"
    }
   },
   "execution_count": 3
  },
  {
   "cell_type": "code",
   "outputs": [
    {
     "data": {
      "text/plain": "      id first_name   last_name                       email       gender\n0  17230      Addie       Synan             asynan0@fda.gov       Female\n1  14251      Lesly      Everix            leverix1@icq.com     Bigender\n2  13450     Blayne  McClelland  bmcclelland2@mediafire.com  Genderqueer\n3  18047     Rollin        Hugh          rhugh3@dedecms.com         Male\n4  16262    Tamarra        Gent           tgent4@toplist.cz       Female",
      "text/html": "<div>\n<style scoped>\n    .dataframe tbody tr th:only-of-type {\n        vertical-align: middle;\n    }\n\n    .dataframe tbody tr th {\n        vertical-align: top;\n    }\n\n    .dataframe thead th {\n        text-align: right;\n    }\n</style>\n<table border=\"1\" class=\"dataframe\">\n  <thead>\n    <tr style=\"text-align: right;\">\n      <th></th>\n      <th>id</th>\n      <th>first_name</th>\n      <th>last_name</th>\n      <th>email</th>\n      <th>gender</th>\n    </tr>\n  </thead>\n  <tbody>\n    <tr>\n      <th>0</th>\n      <td>17230</td>\n      <td>Addie</td>\n      <td>Synan</td>\n      <td>asynan0@fda.gov</td>\n      <td>Female</td>\n    </tr>\n    <tr>\n      <th>1</th>\n      <td>14251</td>\n      <td>Lesly</td>\n      <td>Everix</td>\n      <td>leverix1@icq.com</td>\n      <td>Bigender</td>\n    </tr>\n    <tr>\n      <th>2</th>\n      <td>13450</td>\n      <td>Blayne</td>\n      <td>McClelland</td>\n      <td>bmcclelland2@mediafire.com</td>\n      <td>Genderqueer</td>\n    </tr>\n    <tr>\n      <th>3</th>\n      <td>18047</td>\n      <td>Rollin</td>\n      <td>Hugh</td>\n      <td>rhugh3@dedecms.com</td>\n      <td>Male</td>\n    </tr>\n    <tr>\n      <th>4</th>\n      <td>16262</td>\n      <td>Tamarra</td>\n      <td>Gent</td>\n      <td>tgent4@toplist.cz</td>\n      <td>Female</td>\n    </tr>\n  </tbody>\n</table>\n</div>"
     },
     "execution_count": 4,
     "metadata": {},
     "output_type": "execute_result"
    }
   ],
   "source": [
    "cust.head()"
   ],
   "metadata": {
    "collapsed": false,
    "ExecuteTime": {
     "end_time": "2025-03-08T20:44:35.860610Z",
     "start_time": "2025-03-08T20:44:35.854099Z"
    }
   },
   "execution_count": 4
  },
  {
   "cell_type": "code",
   "outputs": [
    {
     "data": {
      "text/plain": "  TransactionNo       Date ProductNo  Price  Quantity  CustomerNo  \\\n0        581482  12/9/2019     22485  21.47        12     17490.0   \n1        581475  12/9/2019     22596  10.65        36     13069.0   \n2        581475  12/9/2019     23235  11.53        12     13069.0   \n3        581475  12/9/2019     23272  10.65        12     13069.0   \n4        581475  12/9/2019     23239  11.94         6     13069.0   \n\n  date_shippped     status      Country_Noise  \n0           NaN  Cancelled     united kingdom  \n1           NaN    Pending    %United Kingdom  \n2    2019-12-26  Completed   United Kinnngdom  \n3           NaN    Pending  UUUUnited Kingdom  \n4           NaN  Cancelled    United K!ingdom  ",
      "text/html": "<div>\n<style scoped>\n    .dataframe tbody tr th:only-of-type {\n        vertical-align: middle;\n    }\n\n    .dataframe tbody tr th {\n        vertical-align: top;\n    }\n\n    .dataframe thead th {\n        text-align: right;\n    }\n</style>\n<table border=\"1\" class=\"dataframe\">\n  <thead>\n    <tr style=\"text-align: right;\">\n      <th></th>\n      <th>TransactionNo</th>\n      <th>Date</th>\n      <th>ProductNo</th>\n      <th>Price</th>\n      <th>Quantity</th>\n      <th>CustomerNo</th>\n      <th>date_shippped</th>\n      <th>status</th>\n      <th>Country_Noise</th>\n    </tr>\n  </thead>\n  <tbody>\n    <tr>\n      <th>0</th>\n      <td>581482</td>\n      <td>12/9/2019</td>\n      <td>22485</td>\n      <td>21.47</td>\n      <td>12</td>\n      <td>17490.0</td>\n      <td>NaN</td>\n      <td>Cancelled</td>\n      <td>united kingdom</td>\n    </tr>\n    <tr>\n      <th>1</th>\n      <td>581475</td>\n      <td>12/9/2019</td>\n      <td>22596</td>\n      <td>10.65</td>\n      <td>36</td>\n      <td>13069.0</td>\n      <td>NaN</td>\n      <td>Pending</td>\n      <td>%United Kingdom</td>\n    </tr>\n    <tr>\n      <th>2</th>\n      <td>581475</td>\n      <td>12/9/2019</td>\n      <td>23235</td>\n      <td>11.53</td>\n      <td>12</td>\n      <td>13069.0</td>\n      <td>2019-12-26</td>\n      <td>Completed</td>\n      <td>United Kinnngdom</td>\n    </tr>\n    <tr>\n      <th>3</th>\n      <td>581475</td>\n      <td>12/9/2019</td>\n      <td>23272</td>\n      <td>10.65</td>\n      <td>12</td>\n      <td>13069.0</td>\n      <td>NaN</td>\n      <td>Pending</td>\n      <td>UUUUnited Kingdom</td>\n    </tr>\n    <tr>\n      <th>4</th>\n      <td>581475</td>\n      <td>12/9/2019</td>\n      <td>23239</td>\n      <td>11.94</td>\n      <td>6</td>\n      <td>13069.0</td>\n      <td>NaN</td>\n      <td>Cancelled</td>\n      <td>United K!ingdom</td>\n    </tr>\n  </tbody>\n</table>\n</div>"
     },
     "execution_count": 5,
     "metadata": {},
     "output_type": "execute_result"
    }
   ],
   "source": [
    "sales.head()"
   ],
   "metadata": {
    "collapsed": false,
    "ExecuteTime": {
     "end_time": "2025-03-08T20:44:42.943060Z",
     "start_time": "2025-03-08T20:44:42.933940Z"
    }
   },
   "execution_count": 5
  },
  {
   "cell_type": "code",
   "outputs": [
    {
     "data": {
      "text/plain": "1000"
     },
     "execution_count": 9,
     "metadata": {},
     "output_type": "execute_result"
    }
   ],
   "source": [
    "engine = engine_maker(os.getenv('BRONZE_USER'),os.getenv('BRONZE_PASSWORD'),os.getenv('BRONZE_PORT'),os.getenv('BRONZE_DB'))\n",
    "\n",
    "#### i didn't use index = false so i can have a somewhat measure to find the last inserted values #####\n",
    "#### surrogate keys #####\n",
    "prod.to_sql('products',engine,index=False)\n",
    "sales.to_sql('sales',engine,index=False)\n",
    "cust.to_sql('customers',engine,index=False)"
   ],
   "metadata": {
    "collapsed": false,
    "ExecuteTime": {
     "end_time": "2025-03-08T20:52:59.405745Z",
     "start_time": "2025-03-08T20:52:35.215234Z"
    }
   },
   "execution_count": 9
  },
  {
   "cell_type": "code",
   "outputs": [],
   "source": [],
   "metadata": {
    "collapsed": false
   }
  }
 ],
 "metadata": {
  "kernelspec": {
   "display_name": "env",
   "language": "python",
   "name": "python3"
  },
  "language_info": {
   "codemirror_mode": {
    "name": "ipython",
    "version": 3
   },
   "file_extension": ".py",
   "mimetype": "text/x-python",
   "name": "python",
   "nbconvert_exporter": "python",
   "pygments_lexer": "ipython3",
   "version": "3.13.1"
  }
 },
 "nbformat": 4,
 "nbformat_minor": 2
}
