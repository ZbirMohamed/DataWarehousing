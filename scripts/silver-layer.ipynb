{
 "cells": [
  {
   "cell_type": "code",
   "execution_count": 1,
   "id": "initial_id",
   "metadata": {
    "collapsed": true,
    "ExecuteTime": {
     "end_time": "2025-03-11T16:29:06.507124Z",
     "start_time": "2025-03-11T16:29:01.315282Z"
    }
   },
   "outputs": [
    {
     "data": {
      "text/plain": "True"
     },
     "execution_count": 1,
     "metadata": {},
     "output_type": "execute_result"
    }
   ],
   "source": [
    "import pandas as pd\n",
    "from database import engine_maker\n",
    "import os\n",
    "from dotenv import load_dotenv\n",
    "load_dotenv()"
   ]
  },
  {
   "cell_type": "code",
   "outputs": [],
   "source": [
    "engine = engine_maker(os.getenv('BRONZE_USER'),os.getenv('BRONZE_PASSWORD'),os.getenv('BRONZE_PORT'),os.getenv('BRONZE_DB'))"
   ],
   "metadata": {
    "collapsed": false,
    "ExecuteTime": {
     "end_time": "2025-03-11T16:29:11.553601Z",
     "start_time": "2025-03-11T16:29:11.256455Z"
    }
   },
   "id": "c58229e4cc43f837",
   "execution_count": 2
  },
  {
   "cell_type": "code",
   "outputs": [],
   "source": [
    "sales = pd.read_sql('sales',engine)\n",
    "customers = pd.read_sql('customers',engine)\n",
    "products = pd.read_sql('products',engine)"
   ],
   "metadata": {
    "collapsed": false,
    "ExecuteTime": {
     "end_time": "2025-03-11T17:50:17.117732Z",
     "start_time": "2025-03-11T17:50:13.772521Z"
    }
   },
   "id": "4931ca4057c65c94",
   "execution_count": 46
  },
  {
   "cell_type": "code",
   "outputs": [],
   "source": [
    "#####      Cleaning        ###### \n",
    "##### I'll first deal with CustomerNo ==> integer instead of float\n",
    "##### Then I'll deal with Null Values \n",
    "##### And I'll clean the country coulumn "
   ],
   "metadata": {
    "collapsed": false,
    "ExecuteTime": {
     "end_time": "2025-03-11T16:29:16.881935Z",
     "start_time": "2025-03-11T16:29:16.878973Z"
    }
   },
   "id": "f73ac6bbf28609ad",
   "execution_count": 4
  },
  {
   "cell_type": "code",
   "outputs": [
    {
     "data": {
      "text/plain": "   index TransactionNo       Date ProductNo  Price  Quantity  CustomerNo  \\\n0      0        581482  12/9/2019     22485  21.47        12     17490.0   \n1      1        581475  12/9/2019     22596  10.65        36     13069.0   \n2      2        581475  12/9/2019     23235  11.53        12     13069.0   \n3      3        581475  12/9/2019     23272  10.65        12     13069.0   \n4      4        581475  12/9/2019     23239  11.94         6     13069.0   \n\n  date_shippped     status      Country_Noise  \n0          None  Cancelled     united kingdom  \n1          None    Pending    %United Kingdom  \n2    2019-12-26  Completed   United Kinnngdom  \n3          None    Pending  UUUUnited Kingdom  \n4          None  Cancelled    United K!ingdom  ",
      "text/html": "<div>\n<style scoped>\n    .dataframe tbody tr th:only-of-type {\n        vertical-align: middle;\n    }\n\n    .dataframe tbody tr th {\n        vertical-align: top;\n    }\n\n    .dataframe thead th {\n        text-align: right;\n    }\n</style>\n<table border=\"1\" class=\"dataframe\">\n  <thead>\n    <tr style=\"text-align: right;\">\n      <th></th>\n      <th>index</th>\n      <th>TransactionNo</th>\n      <th>Date</th>\n      <th>ProductNo</th>\n      <th>Price</th>\n      <th>Quantity</th>\n      <th>CustomerNo</th>\n      <th>date_shippped</th>\n      <th>status</th>\n      <th>Country_Noise</th>\n    </tr>\n  </thead>\n  <tbody>\n    <tr>\n      <th>0</th>\n      <td>0</td>\n      <td>581482</td>\n      <td>12/9/2019</td>\n      <td>22485</td>\n      <td>21.47</td>\n      <td>12</td>\n      <td>17490.0</td>\n      <td>None</td>\n      <td>Cancelled</td>\n      <td>united kingdom</td>\n    </tr>\n    <tr>\n      <th>1</th>\n      <td>1</td>\n      <td>581475</td>\n      <td>12/9/2019</td>\n      <td>22596</td>\n      <td>10.65</td>\n      <td>36</td>\n      <td>13069.0</td>\n      <td>None</td>\n      <td>Pending</td>\n      <td>%United Kingdom</td>\n    </tr>\n    <tr>\n      <th>2</th>\n      <td>2</td>\n      <td>581475</td>\n      <td>12/9/2019</td>\n      <td>23235</td>\n      <td>11.53</td>\n      <td>12</td>\n      <td>13069.0</td>\n      <td>2019-12-26</td>\n      <td>Completed</td>\n      <td>United Kinnngdom</td>\n    </tr>\n    <tr>\n      <th>3</th>\n      <td>3</td>\n      <td>581475</td>\n      <td>12/9/2019</td>\n      <td>23272</td>\n      <td>10.65</td>\n      <td>12</td>\n      <td>13069.0</td>\n      <td>None</td>\n      <td>Pending</td>\n      <td>UUUUnited Kingdom</td>\n    </tr>\n    <tr>\n      <th>4</th>\n      <td>4</td>\n      <td>581475</td>\n      <td>12/9/2019</td>\n      <td>23239</td>\n      <td>11.94</td>\n      <td>6</td>\n      <td>13069.0</td>\n      <td>None</td>\n      <td>Cancelled</td>\n      <td>United K!ingdom</td>\n    </tr>\n  </tbody>\n</table>\n</div>"
     },
     "execution_count": 47,
     "metadata": {},
     "output_type": "execute_result"
    }
   ],
   "source": [
    "sales.head()"
   ],
   "metadata": {
    "collapsed": false,
    "ExecuteTime": {
     "end_time": "2025-03-11T17:50:18.593332Z",
     "start_time": "2025-03-11T17:50:18.583811Z"
    }
   },
   "id": "8ffb8daccb16140a",
   "execution_count": 47
  },
  {
   "cell_type": "code",
   "outputs": [
    {
     "data": {
      "text/plain": "index            False\nTransactionNo    False\nDate             False\nProductNo        False\nPrice            False\nQuantity         False\nCustomerNo        True\ndate_shippped     True\nstatus           False\nCountry_Noise    False\ndtype: bool"
     },
     "execution_count": 48,
     "metadata": {},
     "output_type": "execute_result"
    }
   ],
   "source": [
    "sales.isnull().any()"
   ],
   "metadata": {
    "collapsed": false,
    "ExecuteTime": {
     "end_time": "2025-03-11T17:50:20.372368Z",
     "start_time": "2025-03-11T17:50:20.192034Z"
    }
   },
   "id": "755ee2facab26715",
   "execution_count": 48
  },
  {
   "cell_type": "code",
   "outputs": [],
   "source": [
    "sales['CustomerNo'] = pd.to_numeric(sales['CustomerNo'], errors='coerce').astype('Int64')"
   ],
   "metadata": {
    "collapsed": false,
    "ExecuteTime": {
     "end_time": "2025-03-11T17:50:21.138007Z",
     "start_time": "2025-03-11T17:50:21.089281Z"
    }
   },
   "id": "5864cc0dd557ff26",
   "execution_count": 49
  },
  {
   "cell_type": "code",
   "outputs": [
    {
     "data": {
      "text/plain": "index              int64\nTransactionNo     object\nDate              object\nProductNo         object\nPrice            float64\nQuantity           int64\nCustomerNo         Int64\ndate_shippped     object\nstatus            object\nCountry_Noise     object\ndtype: object"
     },
     "execution_count": 50,
     "metadata": {},
     "output_type": "execute_result"
    }
   ],
   "source": [
    "sales.dtypes"
   ],
   "metadata": {
    "collapsed": false,
    "ExecuteTime": {
     "end_time": "2025-03-11T17:50:21.817182Z",
     "start_time": "2025-03-11T17:50:21.811019Z"
    }
   },
   "id": "74668226afe951d5",
   "execution_count": 50
  },
  {
   "cell_type": "code",
   "outputs": [
    {
     "data": {
      "text/plain": "0    17490\n1    13069\n2    13069\n3    13069\n4    13069\nName: CustomerNo, dtype: Int64"
     },
     "execution_count": 51,
     "metadata": {},
     "output_type": "execute_result"
    }
   ],
   "source": [
    "sales['CustomerNo'].head()"
   ],
   "metadata": {
    "collapsed": false,
    "ExecuteTime": {
     "end_time": "2025-03-11T17:50:22.420500Z",
     "start_time": "2025-03-11T17:50:22.414933Z"
    }
   },
   "id": "9d1ab6806c9c0392",
   "execution_count": 51
  },
  {
   "cell_type": "code",
   "outputs": [],
   "source": [
    "### 0 ==> unknown ####\n",
    "sales['CustomerNo'] = sales['CustomerNo'].fillna(0)"
   ],
   "metadata": {
    "collapsed": false,
    "ExecuteTime": {
     "end_time": "2025-03-11T17:50:22.996073Z",
     "start_time": "2025-03-11T17:50:22.990851Z"
    }
   },
   "id": "e740f1bfab72c580",
   "execution_count": 52
  },
  {
   "cell_type": "code",
   "outputs": [
    {
     "data": {
      "text/plain": "<IntegerArray>\n[18287, 18283, 18282, 18281, 18280, 18278, 18277, 18276, 18274, 18273,\n ...\n 12042, 12031, 12026, 12025, 12024, 12013, 12008, 12006, 12004,     0]\nLength: 4739, dtype: Int64"
     },
     "execution_count": 53,
     "metadata": {},
     "output_type": "execute_result"
    }
   ],
   "source": [
    "sales['CustomerNo'].sort_values(ascending=False).unique()"
   ],
   "metadata": {
    "collapsed": false,
    "ExecuteTime": {
     "end_time": "2025-03-11T17:50:23.683932Z",
     "start_time": "2025-03-11T17:50:23.642082Z"
    }
   },
   "id": "ef98dc671f5cef2c",
   "execution_count": 53
  },
  {
   "cell_type": "code",
   "outputs": [],
   "source": [
    "sales['date_shippped'] = sales['date_shippped'].fillna(1999-12-31)"
   ],
   "metadata": {
    "collapsed": false,
    "ExecuteTime": {
     "end_time": "2025-03-11T17:50:24.306755Z",
     "start_time": "2025-03-11T17:50:24.233767Z"
    }
   },
   "id": "a0c49bf25fa14d3a",
   "execution_count": 54
  },
  {
   "cell_type": "code",
   "outputs": [],
   "source": [
    "sales['date_shipped'] = pd.to_datetime(sales['date_shippped'],errors='coerce')"
   ],
   "metadata": {
    "collapsed": false,
    "ExecuteTime": {
     "end_time": "2025-03-11T17:50:24.961858Z",
     "start_time": "2025-03-11T17:50:24.895860Z"
    }
   },
   "id": "3716874a643c5510",
   "execution_count": 55
  },
  {
   "cell_type": "code",
   "outputs": [
    {
     "data": {
      "text/plain": "Timestamp('1970-01-01 00:00:00.000001956')"
     },
     "execution_count": 56,
     "metadata": {},
     "output_type": "execute_result"
    }
   ],
   "source": [
    "sales['date_shipped'].min()"
   ],
   "metadata": {
    "collapsed": false,
    "ExecuteTime": {
     "end_time": "2025-03-11T17:50:25.372111Z",
     "start_time": "2025-03-11T17:50:25.365093Z"
    }
   },
   "id": "c33c55e6f1cf904b",
   "execution_count": 56
  },
  {
   "cell_type": "code",
   "outputs": [],
   "source": [],
   "metadata": {
    "collapsed": false,
    "ExecuteTime": {
     "end_time": "2025-03-11T17:50:26.404268Z",
     "start_time": "2025-03-11T17:50:26.400459Z"
    }
   },
   "id": "ada95d7fd810a35f",
   "execution_count": 56
  },
  {
   "cell_type": "markdown",
   "source": [],
   "metadata": {
    "collapsed": false
   },
   "id": "399dd8e480cc92e1"
  },
  {
   "cell_type": "code",
   "outputs": [],
   "source": [
    "#### first let's get rid of special caracters\n",
    "#sales['Country_Noise'].str.replace(r'\\s+',' ').str.lower().str.strip().str.replace(r'[*,%@-/!$£]+','')\n",
    "\n",
    "def clean_duplicates(chars: str):\n",
    "    index = 0\n",
    "    string = ''\n",
    "\n",
    "    for char in chars:\n",
    "\n",
    "        if index + 1 == len(chars):\n",
    "            string += char\n",
    "            return string\n",
    "\n",
    "        if chars[index + 1] != char:\n",
    "            string += char\n",
    "\n",
    "        index += 1\n",
    "\n",
    "\n",
    "\n",
    "sales['cleaned_country'] = (sales['Country_Noise']\n",
    "    .str.lower()\n",
    "    .str.replace(r'[^a-z\\s]', '', regex=True)\n",
    "    .str.replace(r'\\s+',' ',regex=True)\n",
    "    .apply(clean_duplicates)\n",
    "    .str.strip()\n",
    " )"
   ],
   "metadata": {
    "collapsed": false,
    "ExecuteTime": {
     "end_time": "2025-03-11T17:50:39.344573Z",
     "start_time": "2025-03-11T17:50:37.765995Z"
    }
   },
   "id": "58b92223a3a3e18a",
   "execution_count": 57
  },
  {
   "cell_type": "code",
   "outputs": [
    {
     "data": {
      "text/plain": "array(['united kingdom', 'united kingdo m', 'norway', 'n orway',\n       'nor way', 'no rway', 'norw ay', 'united k ingdom',\n       'united ki ngdom', 'unite d kingdom', 'unit ed kingdom',\n       'united kin gdom', 'united king dom', 'united kingd om',\n       'un ited kingdom', 'uni ted kingdom', 'u nited kingdom', 'belgium',\n       'be lgium', 'ger many', 'germ any', 'germany', 'german y',\n       'g ermany', 'ge rmany', 'france', 'f rance', 'fr ance', 'austria',\n       'austri a', 'germa ny', 'netherlands', 'eire', 'ei re', 'eir e',\n       'e ire', 'usa', 'chanel islands', 'franc e', 'fran ce',\n       'neth erlands', 'nether lands', 'netherland s', 'nethe rlands',\n       'netherla nds', 'ne therlands', 'netherlan ds', 'iceland',\n       'portugal', 'port ugal', 'portug al', 'p ortugal', 'spain',\n       'spai n', 'sp ain', 's pain', 'spa in', 'finland', 'portu gal',\n       'por tugal', 'italy', 'it aly', 'grece', 'gre ce', 'g rece',\n       'bel gium', 'belgi um', 'belg ium', 'japan', 'ja pan', 'us a',\n       'chanel islan ds', 'sweden', 'denmark', 'de nmark', 'fra nce',\n       'b elgium', 'fi nland', 'cyprus', 'malta', 'net herlands',\n       'f inland', 'finla nd', 'finl and', 'norwa y', 'den mark',\n       'd enmark', 'denm ark', 'ital y', 'switzerland', 'switzerlan d',\n       'switzer land', 'swit zerland', 's witzerland', 'i celand',\n       'ic eland', 'icela nd', 'ice land', 'icel and', 'icelan d',\n       'a ustralia', 'australia', 'aust ralia', 'portuga l', 'po rtugal',\n       'switzerl and', 'switz erland', 'swi tzerland', 'netherl ands',\n       'n etherlands', 'i taly', 'swed en', 'ita ly', 'belgiu m',\n       'aust ria', 'a ustria', 'switzerla nd', 'sw itzerland', 'c yprus',\n       'cypru s', 'cypr us', 'austr ia', 'au stria', 'aus tria',\n       'czech republic', 'sw eden', 'cha nel islands', 'j apan',\n       'denmar k', 'denma rk', 'u sa', 's weden', 'fin land', 'swe den',\n       'c hanel islands', 'chanel isl ands', 'ch anel islands',\n       'switze rland', 'poland', 'pol and', 'pola nd', 'swede n',\n       'h ong kong', 'hong kong', 'hong ko ng', 'jap an', 'cyp rus',\n       'cy prus', 'hon g kong', 'singapore', 'singap ore', 'rsa', 'r sa',\n       'rs a', 'finlan d', 'austral ia', 'c zech republic',\n       'czech republ ic', 'au stralia', 'austr alia', 'austra lia',\n       'chanel i slands', 'chane l islands', 'chan nel islands',\n       'chanel island s', 'chanel isla nds', 'aus tralia', 'israe l',\n       'israel', 'isr ael', 'hong kon g', 'i srael', 'po land',\n       'u nspecified', 'unspecif ied', 'unspecified', 'unspec ified',\n       'unspecifie d', 'unspeci fied', 'unspecifi ed', 'un specified',\n       'united arab emirates', 'united arab emi rates',\n       'united arab emira tes', 'malt a', 'canada', 'chan el islands',\n       'mal ta', 'unsp ecified', 'ma lta', 'is rael', 'isra el',\n       'australi a', 'm alta', 'p oland', 'unspe cified', 'uns pecified',\n       'japa n', 'european comunity', 'eur opean comunity',\n       'e uropean comunity', 'european comunit y', 'sing apore',\n       'si ngapore', 'singa pore', 'singapo re', 's ingapore', 'ca nada',\n       'can ada', 'c anada', 'canad a', 'chanel is lands',\n       'european c omunity', 'european com unity', 'european comu nity',\n       'polan d', 'bahrain', 'bahrai n', 'bahr ain', 'brazil', 'braz il',\n       'saudi arabia', 'czech repu blic', 'czec h republic',\n       'saudi arabi a', 'saudi ara bia', 'united a rab emirates',\n       'united arab emirate s', 'unit ed arab emirates', 'lebanon',\n       'lebano n', 'leb anon', 'le banon', 'leba non', 'gre ece',\n       'ho ng kong', 'hong k ong', 'grec e', 'lithuan ia', 'lithuania',\n       'lithu ania', 'lith uania', 'lit huania'], dtype=object)"
     },
     "execution_count": 60,
     "metadata": {},
     "output_type": "execute_result"
    }
   ],
   "source": [
    "sales['cleaned_country'].unique()"
   ],
   "metadata": {
    "collapsed": false,
    "ExecuteTime": {
     "end_time": "2025-03-11T17:50:50.065518Z",
     "start_time": "2025-03-11T17:50:50.031864Z"
    }
   },
   "id": "3fa57cdb960f5b10",
   "execution_count": 60
  },
  {
   "cell_type": "code",
   "outputs": [
    {
     "name": "stdout",
     "output_type": "stream",
     "text": [
      "united kingdom\n"
     ]
    }
   ],
   "source": [
    "a = \"uuuunited kingdom\"\n",
    "p = \"sever\"\n",
    "\n",
    "seen = set()\n",
    "\n",
    "d , e = a.split(' ')\n",
    "\n",
    "chars = [char for char in d]\n",
    "\n",
    "#### for contries whom have double linked chars i can create a stocked procedure to handle them\n",
    "\n",
    "def \n",
    "\n",
    "\n",
    "def clean_duplicates(chars: str):\n",
    "    index = 0\n",
    "    string = ''\n",
    "    \n",
    "    for char in chars:\n",
    "\n",
    "        if index + 1 == len(chars):\n",
    "            string += char\n",
    "            return string\n",
    "\n",
    "        if chars[index + 1] != char:\n",
    "            string += char\n",
    "\n",
    "        index += 1\n",
    "        \n",
    "print(clean_duplicates(a))"
   ],
   "metadata": {
    "collapsed": false,
    "ExecuteTime": {
     "end_time": "2025-03-11T17:18:44.548614Z",
     "start_time": "2025-03-11T17:18:44.543699Z"
    }
   },
   "id": "a4299be17c5c8da7",
   "execution_count": 38
  }
 ],
 "metadata": {
  "kernelspec": {
   "display_name": "Python 3",
   "language": "python",
   "name": "python3"
  },
  "language_info": {
   "codemirror_mode": {
    "name": "ipython",
    "version": 2
   },
   "file_extension": ".py",
   "mimetype": "text/x-python",
   "name": "python",
   "nbconvert_exporter": "python",
   "pygments_lexer": "ipython2",
   "version": "2.7.6"
  }
 },
 "nbformat": 4,
 "nbformat_minor": 5
}
