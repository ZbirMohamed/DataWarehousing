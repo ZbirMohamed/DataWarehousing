{
 "cells": [
  {
   "cell_type": "code",
   "execution_count": 3,
   "id": "initial_id",
   "metadata": {
    "collapsed": true,
    "ExecuteTime": {
     "end_time": "2025-03-10T00:03:10.477284Z",
     "start_time": "2025-03-10T00:03:05.271446Z"
    }
   },
   "outputs": [
    {
     "data": {
      "text/plain": "True"
     },
     "execution_count": 3,
     "metadata": {},
     "output_type": "execute_result"
    }
   ],
   "source": [
    "import pandas as pd\n",
    "from database import engine_maker\n",
    "import os\n",
    "from dotenv import load_dotenv\n",
    "load_dotenv()"
   ]
  },
  {
   "cell_type": "code",
   "outputs": [],
   "source": [
    "engine = engine_maker(os.getenv('BRONZE_USER'),os.getenv('BRONZE_PASSWORD'),os.getenv('BRONZE_PORT'),os.getenv('BRONZE_DB'))"
   ],
   "metadata": {
    "collapsed": false,
    "ExecuteTime": {
     "end_time": "2025-03-10T00:03:12.712565Z",
     "start_time": "2025-03-10T00:03:12.428197Z"
    }
   },
   "id": "c58229e4cc43f837",
   "execution_count": 4
  },
  {
   "cell_type": "code",
   "outputs": [
    {
     "ename": "OperationalError",
     "evalue": "(psycopg2.OperationalError) connection to server at \"localhost\" (::1), port 5432 failed: Connection refused (0x0000274D/10061)\n\tIs the server running on that host and accepting TCP/IP connections?\nconnection to server at \"localhost\" (127.0.0.1), port 5432 failed: Connection refused (0x0000274D/10061)\n\tIs the server running on that host and accepting TCP/IP connections?\n\n(Background on this error at: https://sqlalche.me/e/20/e3q8)",
     "output_type": "error",
     "traceback": [
      "\u001B[31m---------------------------------------------------------------------------\u001B[39m",
      "\u001B[31mOperationalError\u001B[39m                          Traceback (most recent call last)",
      "\u001B[36mFile \u001B[39m\u001B[32mC:\\Projet\\DATA ENGiNEERING\\data_warehouse\\.venv\\Lib\\site-packages\\sqlalchemy\\engine\\base.py:146\u001B[39m, in \u001B[36mConnection.__init__\u001B[39m\u001B[34m(self, engine, connection, _has_events, _allow_revalidate, _allow_autobegin)\u001B[39m\n\u001B[32m    145\u001B[39m \u001B[38;5;28;01mtry\u001B[39;00m:\n\u001B[32m--> \u001B[39m\u001B[32m146\u001B[39m     \u001B[38;5;28mself\u001B[39m._dbapi_connection = \u001B[43mengine\u001B[49m\u001B[43m.\u001B[49m\u001B[43mraw_connection\u001B[49m\u001B[43m(\u001B[49m\u001B[43m)\u001B[49m\n\u001B[32m    147\u001B[39m \u001B[38;5;28;01mexcept\u001B[39;00m dialect.loaded_dbapi.Error \u001B[38;5;28;01mas\u001B[39;00m err:\n",
      "\u001B[36mFile \u001B[39m\u001B[32mC:\\Projet\\DATA ENGiNEERING\\data_warehouse\\.venv\\Lib\\site-packages\\sqlalchemy\\engine\\base.py:3298\u001B[39m, in \u001B[36mEngine.raw_connection\u001B[39m\u001B[34m(self)\u001B[39m\n\u001B[32m   3277\u001B[39m \u001B[38;5;250m\u001B[39m\u001B[33;03m\"\"\"Return a \"raw\" DBAPI connection from the connection pool.\u001B[39;00m\n\u001B[32m   3278\u001B[39m \n\u001B[32m   3279\u001B[39m \u001B[33;03mThe returned object is a proxied version of the DBAPI\u001B[39;00m\n\u001B[32m   (...)\u001B[39m\u001B[32m   3296\u001B[39m \n\u001B[32m   3297\u001B[39m \u001B[33;03m\"\"\"\u001B[39;00m\n\u001B[32m-> \u001B[39m\u001B[32m3298\u001B[39m \u001B[38;5;28;01mreturn\u001B[39;00m \u001B[38;5;28;43mself\u001B[39;49m\u001B[43m.\u001B[49m\u001B[43mpool\u001B[49m\u001B[43m.\u001B[49m\u001B[43mconnect\u001B[49m\u001B[43m(\u001B[49m\u001B[43m)\u001B[49m\n",
      "\u001B[36mFile \u001B[39m\u001B[32mC:\\Projet\\DATA ENGiNEERING\\data_warehouse\\.venv\\Lib\\site-packages\\sqlalchemy\\pool\\base.py:449\u001B[39m, in \u001B[36mPool.connect\u001B[39m\u001B[34m(self)\u001B[39m\n\u001B[32m    442\u001B[39m \u001B[38;5;250m\u001B[39m\u001B[33;03m\"\"\"Return a DBAPI connection from the pool.\u001B[39;00m\n\u001B[32m    443\u001B[39m \n\u001B[32m    444\u001B[39m \u001B[33;03mThe connection is instrumented such that when its\u001B[39;00m\n\u001B[32m   (...)\u001B[39m\u001B[32m    447\u001B[39m \n\u001B[32m    448\u001B[39m \u001B[33;03m\"\"\"\u001B[39;00m\n\u001B[32m--> \u001B[39m\u001B[32m449\u001B[39m \u001B[38;5;28;01mreturn\u001B[39;00m \u001B[43m_ConnectionFairy\u001B[49m\u001B[43m.\u001B[49m\u001B[43m_checkout\u001B[49m\u001B[43m(\u001B[49m\u001B[38;5;28;43mself\u001B[39;49m\u001B[43m)\u001B[49m\n",
      "\u001B[36mFile \u001B[39m\u001B[32mC:\\Projet\\DATA ENGiNEERING\\data_warehouse\\.venv\\Lib\\site-packages\\sqlalchemy\\pool\\base.py:1263\u001B[39m, in \u001B[36m_ConnectionFairy._checkout\u001B[39m\u001B[34m(cls, pool, threadconns, fairy)\u001B[39m\n\u001B[32m   1262\u001B[39m \u001B[38;5;28;01mif\u001B[39;00m \u001B[38;5;129;01mnot\u001B[39;00m fairy:\n\u001B[32m-> \u001B[39m\u001B[32m1263\u001B[39m     fairy = \u001B[43m_ConnectionRecord\u001B[49m\u001B[43m.\u001B[49m\u001B[43mcheckout\u001B[49m\u001B[43m(\u001B[49m\u001B[43mpool\u001B[49m\u001B[43m)\u001B[49m\n\u001B[32m   1265\u001B[39m     \u001B[38;5;28;01mif\u001B[39;00m threadconns \u001B[38;5;129;01mis\u001B[39;00m \u001B[38;5;129;01mnot\u001B[39;00m \u001B[38;5;28;01mNone\u001B[39;00m:\n",
      "\u001B[36mFile \u001B[39m\u001B[32mC:\\Projet\\DATA ENGiNEERING\\data_warehouse\\.venv\\Lib\\site-packages\\sqlalchemy\\pool\\base.py:712\u001B[39m, in \u001B[36m_ConnectionRecord.checkout\u001B[39m\u001B[34m(cls, pool)\u001B[39m\n\u001B[32m    711\u001B[39m \u001B[38;5;28;01melse\u001B[39;00m:\n\u001B[32m--> \u001B[39m\u001B[32m712\u001B[39m     rec = \u001B[43mpool\u001B[49m\u001B[43m.\u001B[49m\u001B[43m_do_get\u001B[49m\u001B[43m(\u001B[49m\u001B[43m)\u001B[49m\n\u001B[32m    714\u001B[39m \u001B[38;5;28;01mtry\u001B[39;00m:\n",
      "\u001B[36mFile \u001B[39m\u001B[32mC:\\Projet\\DATA ENGiNEERING\\data_warehouse\\.venv\\Lib\\site-packages\\sqlalchemy\\pool\\impl.py:179\u001B[39m, in \u001B[36mQueuePool._do_get\u001B[39m\u001B[34m(self)\u001B[39m\n\u001B[32m    178\u001B[39m \u001B[38;5;28;01mexcept\u001B[39;00m:\n\u001B[32m--> \u001B[39m\u001B[32m179\u001B[39m \u001B[43m    \u001B[49m\u001B[38;5;28;43;01mwith\u001B[39;49;00m\u001B[43m \u001B[49m\u001B[43mutil\u001B[49m\u001B[43m.\u001B[49m\u001B[43msafe_reraise\u001B[49m\u001B[43m(\u001B[49m\u001B[43m)\u001B[49m\u001B[43m:\u001B[49m\n\u001B[32m    180\u001B[39m \u001B[43m        \u001B[49m\u001B[38;5;28;43mself\u001B[39;49m\u001B[43m.\u001B[49m\u001B[43m_dec_overflow\u001B[49m\u001B[43m(\u001B[49m\u001B[43m)\u001B[49m\n",
      "\u001B[36mFile \u001B[39m\u001B[32mC:\\Projet\\DATA ENGiNEERING\\data_warehouse\\.venv\\Lib\\site-packages\\sqlalchemy\\util\\langhelpers.py:146\u001B[39m, in \u001B[36msafe_reraise.__exit__\u001B[39m\u001B[34m(self, type_, value, traceback)\u001B[39m\n\u001B[32m    145\u001B[39m     \u001B[38;5;28mself\u001B[39m._exc_info = \u001B[38;5;28;01mNone\u001B[39;00m  \u001B[38;5;66;03m# remove potential circular references\u001B[39;00m\n\u001B[32m--> \u001B[39m\u001B[32m146\u001B[39m     \u001B[38;5;28;01mraise\u001B[39;00m exc_value.with_traceback(exc_tb)\n\u001B[32m    147\u001B[39m \u001B[38;5;28;01melse\u001B[39;00m:\n",
      "\u001B[36mFile \u001B[39m\u001B[32mC:\\Projet\\DATA ENGiNEERING\\data_warehouse\\.venv\\Lib\\site-packages\\sqlalchemy\\pool\\impl.py:177\u001B[39m, in \u001B[36mQueuePool._do_get\u001B[39m\u001B[34m(self)\u001B[39m\n\u001B[32m    176\u001B[39m \u001B[38;5;28;01mtry\u001B[39;00m:\n\u001B[32m--> \u001B[39m\u001B[32m177\u001B[39m     \u001B[38;5;28;01mreturn\u001B[39;00m \u001B[38;5;28;43mself\u001B[39;49m\u001B[43m.\u001B[49m\u001B[43m_create_connection\u001B[49m\u001B[43m(\u001B[49m\u001B[43m)\u001B[49m\n\u001B[32m    178\u001B[39m \u001B[38;5;28;01mexcept\u001B[39;00m:\n",
      "\u001B[36mFile \u001B[39m\u001B[32mC:\\Projet\\DATA ENGiNEERING\\data_warehouse\\.venv\\Lib\\site-packages\\sqlalchemy\\pool\\base.py:390\u001B[39m, in \u001B[36mPool._create_connection\u001B[39m\u001B[34m(self)\u001B[39m\n\u001B[32m    388\u001B[39m \u001B[38;5;250m\u001B[39m\u001B[33;03m\"\"\"Called by subclasses to create a new ConnectionRecord.\"\"\"\u001B[39;00m\n\u001B[32m--> \u001B[39m\u001B[32m390\u001B[39m \u001B[38;5;28;01mreturn\u001B[39;00m \u001B[43m_ConnectionRecord\u001B[49m\u001B[43m(\u001B[49m\u001B[38;5;28;43mself\u001B[39;49m\u001B[43m)\u001B[49m\n",
      "\u001B[36mFile \u001B[39m\u001B[32mC:\\Projet\\DATA ENGiNEERING\\data_warehouse\\.venv\\Lib\\site-packages\\sqlalchemy\\pool\\base.py:674\u001B[39m, in \u001B[36m_ConnectionRecord.__init__\u001B[39m\u001B[34m(self, pool, connect)\u001B[39m\n\u001B[32m    673\u001B[39m \u001B[38;5;28;01mif\u001B[39;00m connect:\n\u001B[32m--> \u001B[39m\u001B[32m674\u001B[39m     \u001B[38;5;28;43mself\u001B[39;49m\u001B[43m.\u001B[49m\u001B[43m__connect\u001B[49m\u001B[43m(\u001B[49m\u001B[43m)\u001B[49m\n\u001B[32m    675\u001B[39m \u001B[38;5;28mself\u001B[39m.finalize_callback = deque()\n",
      "\u001B[36mFile \u001B[39m\u001B[32mC:\\Projet\\DATA ENGiNEERING\\data_warehouse\\.venv\\Lib\\site-packages\\sqlalchemy\\pool\\base.py:900\u001B[39m, in \u001B[36m_ConnectionRecord.__connect\u001B[39m\u001B[34m(self)\u001B[39m\n\u001B[32m    899\u001B[39m \u001B[38;5;28;01mexcept\u001B[39;00m \u001B[38;5;167;01mBaseException\u001B[39;00m \u001B[38;5;28;01mas\u001B[39;00m e:\n\u001B[32m--> \u001B[39m\u001B[32m900\u001B[39m \u001B[43m    \u001B[49m\u001B[38;5;28;43;01mwith\u001B[39;49;00m\u001B[43m \u001B[49m\u001B[43mutil\u001B[49m\u001B[43m.\u001B[49m\u001B[43msafe_reraise\u001B[49m\u001B[43m(\u001B[49m\u001B[43m)\u001B[49m\u001B[43m:\u001B[49m\n\u001B[32m    901\u001B[39m \u001B[43m        \u001B[49m\u001B[43mpool\u001B[49m\u001B[43m.\u001B[49m\u001B[43mlogger\u001B[49m\u001B[43m.\u001B[49m\u001B[43mdebug\u001B[49m\u001B[43m(\u001B[49m\u001B[33;43m\"\u001B[39;49m\u001B[33;43mError on connect(): \u001B[39;49m\u001B[38;5;132;43;01m%s\u001B[39;49;00m\u001B[33;43m\"\u001B[39;49m\u001B[43m,\u001B[49m\u001B[43m \u001B[49m\u001B[43me\u001B[49m\u001B[43m)\u001B[49m\n",
      "\u001B[36mFile \u001B[39m\u001B[32mC:\\Projet\\DATA ENGiNEERING\\data_warehouse\\.venv\\Lib\\site-packages\\sqlalchemy\\util\\langhelpers.py:146\u001B[39m, in \u001B[36msafe_reraise.__exit__\u001B[39m\u001B[34m(self, type_, value, traceback)\u001B[39m\n\u001B[32m    145\u001B[39m     \u001B[38;5;28mself\u001B[39m._exc_info = \u001B[38;5;28;01mNone\u001B[39;00m  \u001B[38;5;66;03m# remove potential circular references\u001B[39;00m\n\u001B[32m--> \u001B[39m\u001B[32m146\u001B[39m     \u001B[38;5;28;01mraise\u001B[39;00m exc_value.with_traceback(exc_tb)\n\u001B[32m    147\u001B[39m \u001B[38;5;28;01melse\u001B[39;00m:\n",
      "\u001B[36mFile \u001B[39m\u001B[32mC:\\Projet\\DATA ENGiNEERING\\data_warehouse\\.venv\\Lib\\site-packages\\sqlalchemy\\pool\\base.py:896\u001B[39m, in \u001B[36m_ConnectionRecord.__connect\u001B[39m\u001B[34m(self)\u001B[39m\n\u001B[32m    895\u001B[39m \u001B[38;5;28mself\u001B[39m.starttime = time.time()\n\u001B[32m--> \u001B[39m\u001B[32m896\u001B[39m \u001B[38;5;28mself\u001B[39m.dbapi_connection = connection = \u001B[43mpool\u001B[49m\u001B[43m.\u001B[49m\u001B[43m_invoke_creator\u001B[49m\u001B[43m(\u001B[49m\u001B[38;5;28;43mself\u001B[39;49m\u001B[43m)\u001B[49m\n\u001B[32m    897\u001B[39m pool.logger.debug(\u001B[33m\"\u001B[39m\u001B[33mCreated new connection \u001B[39m\u001B[38;5;132;01m%r\u001B[39;00m\u001B[33m\"\u001B[39m, connection)\n",
      "\u001B[36mFile \u001B[39m\u001B[32mC:\\Projet\\DATA ENGiNEERING\\data_warehouse\\.venv\\Lib\\site-packages\\sqlalchemy\\engine\\create.py:646\u001B[39m, in \u001B[36mcreate_engine.<locals>.connect\u001B[39m\u001B[34m(connection_record)\u001B[39m\n\u001B[32m    644\u001B[39m             \u001B[38;5;28;01mreturn\u001B[39;00m connection\n\u001B[32m--> \u001B[39m\u001B[32m646\u001B[39m \u001B[38;5;28;01mreturn\u001B[39;00m \u001B[43mdialect\u001B[49m\u001B[43m.\u001B[49m\u001B[43mconnect\u001B[49m\u001B[43m(\u001B[49m\u001B[43m*\u001B[49m\u001B[43mcargs\u001B[49m\u001B[43m,\u001B[49m\u001B[43m \u001B[49m\u001B[43m*\u001B[49m\u001B[43m*\u001B[49m\u001B[43mcparams\u001B[49m\u001B[43m)\u001B[49m\n",
      "\u001B[36mFile \u001B[39m\u001B[32mC:\\Projet\\DATA ENGiNEERING\\data_warehouse\\.venv\\Lib\\site-packages\\sqlalchemy\\engine\\default.py:622\u001B[39m, in \u001B[36mDefaultDialect.connect\u001B[39m\u001B[34m(self, *cargs, **cparams)\u001B[39m\n\u001B[32m    620\u001B[39m \u001B[38;5;28;01mdef\u001B[39;00m\u001B[38;5;250m \u001B[39m\u001B[34mconnect\u001B[39m(\u001B[38;5;28mself\u001B[39m, *cargs, **cparams):\n\u001B[32m    621\u001B[39m     \u001B[38;5;66;03m# inherits the docstring from interfaces.Dialect.connect\u001B[39;00m\n\u001B[32m--> \u001B[39m\u001B[32m622\u001B[39m     \u001B[38;5;28;01mreturn\u001B[39;00m \u001B[38;5;28;43mself\u001B[39;49m\u001B[43m.\u001B[49m\u001B[43mloaded_dbapi\u001B[49m\u001B[43m.\u001B[49m\u001B[43mconnect\u001B[49m\u001B[43m(\u001B[49m\u001B[43m*\u001B[49m\u001B[43mcargs\u001B[49m\u001B[43m,\u001B[49m\u001B[43m \u001B[49m\u001B[43m*\u001B[49m\u001B[43m*\u001B[49m\u001B[43mcparams\u001B[49m\u001B[43m)\u001B[49m\n",
      "\u001B[36mFile \u001B[39m\u001B[32mC:\\Projet\\DATA ENGiNEERING\\data_warehouse\\.venv\\Lib\\site-packages\\psycopg2\\__init__.py:122\u001B[39m, in \u001B[36mconnect\u001B[39m\u001B[34m(dsn, connection_factory, cursor_factory, **kwargs)\u001B[39m\n\u001B[32m    121\u001B[39m dsn = _ext.make_dsn(dsn, **kwargs)\n\u001B[32m--> \u001B[39m\u001B[32m122\u001B[39m conn = \u001B[43m_connect\u001B[49m\u001B[43m(\u001B[49m\u001B[43mdsn\u001B[49m\u001B[43m,\u001B[49m\u001B[43m \u001B[49m\u001B[43mconnection_factory\u001B[49m\u001B[43m=\u001B[49m\u001B[43mconnection_factory\u001B[49m\u001B[43m,\u001B[49m\u001B[43m \u001B[49m\u001B[43m*\u001B[49m\u001B[43m*\u001B[49m\u001B[43mkwasync\u001B[49m\u001B[43m)\u001B[49m\n\u001B[32m    123\u001B[39m \u001B[38;5;28;01mif\u001B[39;00m cursor_factory \u001B[38;5;129;01mis\u001B[39;00m \u001B[38;5;129;01mnot\u001B[39;00m \u001B[38;5;28;01mNone\u001B[39;00m:\n",
      "\u001B[31mOperationalError\u001B[39m: connection to server at \"localhost\" (::1), port 5432 failed: Connection refused (0x0000274D/10061)\n\tIs the server running on that host and accepting TCP/IP connections?\nconnection to server at \"localhost\" (127.0.0.1), port 5432 failed: Connection refused (0x0000274D/10061)\n\tIs the server running on that host and accepting TCP/IP connections?\n",
      "\nThe above exception was the direct cause of the following exception:\n",
      "\u001B[31mOperationalError\u001B[39m                          Traceback (most recent call last)",
      "\u001B[36mCell\u001B[39m\u001B[36m \u001B[39m\u001B[32mIn[5]\u001B[39m\u001B[32m, line 1\u001B[39m\n\u001B[32m----> \u001B[39m\u001B[32m1\u001B[39m sales = \u001B[43mpd\u001B[49m\u001B[43m.\u001B[49m\u001B[43mread_sql\u001B[49m\u001B[43m(\u001B[49m\u001B[33;43m'\u001B[39;49m\u001B[33;43msales\u001B[39;49m\u001B[33;43m'\u001B[39;49m\u001B[43m,\u001B[49m\u001B[43mengine\u001B[49m\u001B[43m)\u001B[49m\n\u001B[32m      2\u001B[39m customers = pd.read_sql(\u001B[33m'\u001B[39m\u001B[33mcustomers\u001B[39m\u001B[33m'\u001B[39m,engine)\n\u001B[32m      3\u001B[39m products = pd.read_sql(\u001B[33m'\u001B[39m\u001B[33mproducts\u001B[39m\u001B[33m'\u001B[39m,engine)\n",
      "\u001B[36mFile \u001B[39m\u001B[32mC:\\Projet\\DATA ENGiNEERING\\data_warehouse\\.venv\\Lib\\site-packages\\pandas\\io\\sql.py:704\u001B[39m, in \u001B[36mread_sql\u001B[39m\u001B[34m(sql, con, index_col, coerce_float, params, parse_dates, columns, chunksize, dtype_backend, dtype)\u001B[39m\n\u001B[32m    701\u001B[39m     dtype_backend = \u001B[33m\"\u001B[39m\u001B[33mnumpy\u001B[39m\u001B[33m\"\u001B[39m  \u001B[38;5;66;03m# type: ignore[assignment]\u001B[39;00m\n\u001B[32m    702\u001B[39m \u001B[38;5;28;01massert\u001B[39;00m dtype_backend \u001B[38;5;129;01mis\u001B[39;00m \u001B[38;5;129;01mnot\u001B[39;00m lib.no_default\n\u001B[32m--> \u001B[39m\u001B[32m704\u001B[39m \u001B[38;5;28;01mwith\u001B[39;00m \u001B[43mpandasSQL_builder\u001B[49m\u001B[43m(\u001B[49m\u001B[43mcon\u001B[49m\u001B[43m)\u001B[49m \u001B[38;5;28;01mas\u001B[39;00m pandas_sql:\n\u001B[32m    705\u001B[39m     \u001B[38;5;28;01mif\u001B[39;00m \u001B[38;5;28misinstance\u001B[39m(pandas_sql, SQLiteDatabase):\n\u001B[32m    706\u001B[39m         \u001B[38;5;28;01mreturn\u001B[39;00m pandas_sql.read_query(\n\u001B[32m    707\u001B[39m             sql,\n\u001B[32m    708\u001B[39m             index_col=index_col,\n\u001B[32m   (...)\u001B[39m\u001B[32m    714\u001B[39m             dtype=dtype,\n\u001B[32m    715\u001B[39m         )\n",
      "\u001B[36mFile \u001B[39m\u001B[32mC:\\Projet\\DATA ENGiNEERING\\data_warehouse\\.venv\\Lib\\site-packages\\pandas\\io\\sql.py:906\u001B[39m, in \u001B[36mpandasSQL_builder\u001B[39m\u001B[34m(con, schema, need_transaction)\u001B[39m\n\u001B[32m    903\u001B[39m     \u001B[38;5;28;01mraise\u001B[39;00m \u001B[38;5;167;01mImportError\u001B[39;00m(\u001B[33m\"\u001B[39m\u001B[33mUsing URI string without sqlalchemy installed.\u001B[39m\u001B[33m\"\u001B[39m)\n\u001B[32m    905\u001B[39m \u001B[38;5;28;01mif\u001B[39;00m sqlalchemy \u001B[38;5;129;01mis\u001B[39;00m \u001B[38;5;129;01mnot\u001B[39;00m \u001B[38;5;28;01mNone\u001B[39;00m \u001B[38;5;129;01mand\u001B[39;00m \u001B[38;5;28misinstance\u001B[39m(con, (\u001B[38;5;28mstr\u001B[39m, sqlalchemy.engine.Connectable)):\n\u001B[32m--> \u001B[39m\u001B[32m906\u001B[39m     \u001B[38;5;28;01mreturn\u001B[39;00m \u001B[43mSQLDatabase\u001B[49m\u001B[43m(\u001B[49m\u001B[43mcon\u001B[49m\u001B[43m,\u001B[49m\u001B[43m \u001B[49m\u001B[43mschema\u001B[49m\u001B[43m,\u001B[49m\u001B[43m \u001B[49m\u001B[43mneed_transaction\u001B[49m\u001B[43m)\u001B[49m\n\u001B[32m    908\u001B[39m adbc = import_optional_dependency(\u001B[33m\"\u001B[39m\u001B[33madbc_driver_manager.dbapi\u001B[39m\u001B[33m\"\u001B[39m, errors=\u001B[33m\"\u001B[39m\u001B[33mignore\u001B[39m\u001B[33m\"\u001B[39m)\n\u001B[32m    909\u001B[39m \u001B[38;5;28;01mif\u001B[39;00m adbc \u001B[38;5;129;01mand\u001B[39;00m \u001B[38;5;28misinstance\u001B[39m(con, adbc.Connection):\n",
      "\u001B[36mFile \u001B[39m\u001B[32mC:\\Projet\\DATA ENGiNEERING\\data_warehouse\\.venv\\Lib\\site-packages\\pandas\\io\\sql.py:1636\u001B[39m, in \u001B[36mSQLDatabase.__init__\u001B[39m\u001B[34m(self, con, schema, need_transaction)\u001B[39m\n\u001B[32m   1634\u001B[39m     \u001B[38;5;28mself\u001B[39m.exit_stack.callback(con.dispose)\n\u001B[32m   1635\u001B[39m \u001B[38;5;28;01mif\u001B[39;00m \u001B[38;5;28misinstance\u001B[39m(con, Engine):\n\u001B[32m-> \u001B[39m\u001B[32m1636\u001B[39m     con = \u001B[38;5;28mself\u001B[39m.exit_stack.enter_context(\u001B[43mcon\u001B[49m\u001B[43m.\u001B[49m\u001B[43mconnect\u001B[49m\u001B[43m(\u001B[49m\u001B[43m)\u001B[49m)\n\u001B[32m   1637\u001B[39m \u001B[38;5;28;01mif\u001B[39;00m need_transaction \u001B[38;5;129;01mand\u001B[39;00m \u001B[38;5;129;01mnot\u001B[39;00m con.in_transaction():\n\u001B[32m   1638\u001B[39m     \u001B[38;5;28mself\u001B[39m.exit_stack.enter_context(con.begin())\n",
      "\u001B[36mFile \u001B[39m\u001B[32mC:\\Projet\\DATA ENGiNEERING\\data_warehouse\\.venv\\Lib\\site-packages\\sqlalchemy\\engine\\base.py:3274\u001B[39m, in \u001B[36mEngine.connect\u001B[39m\u001B[34m(self)\u001B[39m\n\u001B[32m   3251\u001B[39m \u001B[38;5;28;01mdef\u001B[39;00m\u001B[38;5;250m \u001B[39m\u001B[34mconnect\u001B[39m(\u001B[38;5;28mself\u001B[39m) -> Connection:\n\u001B[32m   3252\u001B[39m \u001B[38;5;250m    \u001B[39m\u001B[33;03m\"\"\"Return a new :class:`_engine.Connection` object.\u001B[39;00m\n\u001B[32m   3253\u001B[39m \n\u001B[32m   3254\u001B[39m \u001B[33;03m    The :class:`_engine.Connection` acts as a Python context manager, so\u001B[39;00m\n\u001B[32m   (...)\u001B[39m\u001B[32m   3271\u001B[39m \n\u001B[32m   3272\u001B[39m \u001B[33;03m    \"\"\"\u001B[39;00m\n\u001B[32m-> \u001B[39m\u001B[32m3274\u001B[39m     \u001B[38;5;28;01mreturn\u001B[39;00m \u001B[38;5;28;43mself\u001B[39;49m\u001B[43m.\u001B[49m\u001B[43m_connection_cls\u001B[49m\u001B[43m(\u001B[49m\u001B[38;5;28;43mself\u001B[39;49m\u001B[43m)\u001B[49m\n",
      "\u001B[36mFile \u001B[39m\u001B[32mC:\\Projet\\DATA ENGiNEERING\\data_warehouse\\.venv\\Lib\\site-packages\\sqlalchemy\\engine\\base.py:148\u001B[39m, in \u001B[36mConnection.__init__\u001B[39m\u001B[34m(self, engine, connection, _has_events, _allow_revalidate, _allow_autobegin)\u001B[39m\n\u001B[32m    146\u001B[39m         \u001B[38;5;28mself\u001B[39m._dbapi_connection = engine.raw_connection()\n\u001B[32m    147\u001B[39m     \u001B[38;5;28;01mexcept\u001B[39;00m dialect.loaded_dbapi.Error \u001B[38;5;28;01mas\u001B[39;00m err:\n\u001B[32m--> \u001B[39m\u001B[32m148\u001B[39m         \u001B[43mConnection\u001B[49m\u001B[43m.\u001B[49m\u001B[43m_handle_dbapi_exception_noconnection\u001B[49m\u001B[43m(\u001B[49m\n\u001B[32m    149\u001B[39m \u001B[43m            \u001B[49m\u001B[43merr\u001B[49m\u001B[43m,\u001B[49m\u001B[43m \u001B[49m\u001B[43mdialect\u001B[49m\u001B[43m,\u001B[49m\u001B[43m \u001B[49m\u001B[43mengine\u001B[49m\n\u001B[32m    150\u001B[39m \u001B[43m        \u001B[49m\u001B[43m)\u001B[49m\n\u001B[32m    151\u001B[39m         \u001B[38;5;28;01mraise\u001B[39;00m\n\u001B[32m    152\u001B[39m \u001B[38;5;28;01melse\u001B[39;00m:\n",
      "\u001B[36mFile \u001B[39m\u001B[32mC:\\Projet\\DATA ENGiNEERING\\data_warehouse\\.venv\\Lib\\site-packages\\sqlalchemy\\engine\\base.py:2439\u001B[39m, in \u001B[36mConnection._handle_dbapi_exception_noconnection\u001B[39m\u001B[34m(cls, e, dialect, engine, is_disconnect, invalidate_pool_on_disconnect, is_pre_ping)\u001B[39m\n\u001B[32m   2437\u001B[39m \u001B[38;5;28;01melif\u001B[39;00m should_wrap:\n\u001B[32m   2438\u001B[39m     \u001B[38;5;28;01massert\u001B[39;00m sqlalchemy_exception \u001B[38;5;129;01mis\u001B[39;00m \u001B[38;5;129;01mnot\u001B[39;00m \u001B[38;5;28;01mNone\u001B[39;00m\n\u001B[32m-> \u001B[39m\u001B[32m2439\u001B[39m     \u001B[38;5;28;01mraise\u001B[39;00m sqlalchemy_exception.with_traceback(exc_info[\u001B[32m2\u001B[39m]) \u001B[38;5;28;01mfrom\u001B[39;00m\u001B[38;5;250m \u001B[39m\u001B[34;01me\u001B[39;00m\n\u001B[32m   2440\u001B[39m \u001B[38;5;28;01melse\u001B[39;00m:\n\u001B[32m   2441\u001B[39m     \u001B[38;5;28;01massert\u001B[39;00m exc_info[\u001B[32m1\u001B[39m] \u001B[38;5;129;01mis\u001B[39;00m \u001B[38;5;129;01mnot\u001B[39;00m \u001B[38;5;28;01mNone\u001B[39;00m\n",
      "\u001B[36mFile \u001B[39m\u001B[32mC:\\Projet\\DATA ENGiNEERING\\data_warehouse\\.venv\\Lib\\site-packages\\sqlalchemy\\engine\\base.py:146\u001B[39m, in \u001B[36mConnection.__init__\u001B[39m\u001B[34m(self, engine, connection, _has_events, _allow_revalidate, _allow_autobegin)\u001B[39m\n\u001B[32m    144\u001B[39m \u001B[38;5;28;01mif\u001B[39;00m connection \u001B[38;5;129;01mis\u001B[39;00m \u001B[38;5;28;01mNone\u001B[39;00m:\n\u001B[32m    145\u001B[39m     \u001B[38;5;28;01mtry\u001B[39;00m:\n\u001B[32m--> \u001B[39m\u001B[32m146\u001B[39m         \u001B[38;5;28mself\u001B[39m._dbapi_connection = \u001B[43mengine\u001B[49m\u001B[43m.\u001B[49m\u001B[43mraw_connection\u001B[49m\u001B[43m(\u001B[49m\u001B[43m)\u001B[49m\n\u001B[32m    147\u001B[39m     \u001B[38;5;28;01mexcept\u001B[39;00m dialect.loaded_dbapi.Error \u001B[38;5;28;01mas\u001B[39;00m err:\n\u001B[32m    148\u001B[39m         Connection._handle_dbapi_exception_noconnection(\n\u001B[32m    149\u001B[39m             err, dialect, engine\n\u001B[32m    150\u001B[39m         )\n",
      "\u001B[36mFile \u001B[39m\u001B[32mC:\\Projet\\DATA ENGiNEERING\\data_warehouse\\.venv\\Lib\\site-packages\\sqlalchemy\\engine\\base.py:3298\u001B[39m, in \u001B[36mEngine.raw_connection\u001B[39m\u001B[34m(self)\u001B[39m\n\u001B[32m   3276\u001B[39m \u001B[38;5;28;01mdef\u001B[39;00m\u001B[38;5;250m \u001B[39m\u001B[34mraw_connection\u001B[39m(\u001B[38;5;28mself\u001B[39m) -> PoolProxiedConnection:\n\u001B[32m   3277\u001B[39m \u001B[38;5;250m    \u001B[39m\u001B[33;03m\"\"\"Return a \"raw\" DBAPI connection from the connection pool.\u001B[39;00m\n\u001B[32m   3278\u001B[39m \n\u001B[32m   3279\u001B[39m \u001B[33;03m    The returned object is a proxied version of the DBAPI\u001B[39;00m\n\u001B[32m   (...)\u001B[39m\u001B[32m   3296\u001B[39m \n\u001B[32m   3297\u001B[39m \u001B[33;03m    \"\"\"\u001B[39;00m\n\u001B[32m-> \u001B[39m\u001B[32m3298\u001B[39m     \u001B[38;5;28;01mreturn\u001B[39;00m \u001B[38;5;28;43mself\u001B[39;49m\u001B[43m.\u001B[49m\u001B[43mpool\u001B[49m\u001B[43m.\u001B[49m\u001B[43mconnect\u001B[49m\u001B[43m(\u001B[49m\u001B[43m)\u001B[49m\n",
      "\u001B[36mFile \u001B[39m\u001B[32mC:\\Projet\\DATA ENGiNEERING\\data_warehouse\\.venv\\Lib\\site-packages\\sqlalchemy\\pool\\base.py:449\u001B[39m, in \u001B[36mPool.connect\u001B[39m\u001B[34m(self)\u001B[39m\n\u001B[32m    441\u001B[39m \u001B[38;5;28;01mdef\u001B[39;00m\u001B[38;5;250m \u001B[39m\u001B[34mconnect\u001B[39m(\u001B[38;5;28mself\u001B[39m) -> PoolProxiedConnection:\n\u001B[32m    442\u001B[39m \u001B[38;5;250m    \u001B[39m\u001B[33;03m\"\"\"Return a DBAPI connection from the pool.\u001B[39;00m\n\u001B[32m    443\u001B[39m \n\u001B[32m    444\u001B[39m \u001B[33;03m    The connection is instrumented such that when its\u001B[39;00m\n\u001B[32m   (...)\u001B[39m\u001B[32m    447\u001B[39m \n\u001B[32m    448\u001B[39m \u001B[33;03m    \"\"\"\u001B[39;00m\n\u001B[32m--> \u001B[39m\u001B[32m449\u001B[39m     \u001B[38;5;28;01mreturn\u001B[39;00m \u001B[43m_ConnectionFairy\u001B[49m\u001B[43m.\u001B[49m\u001B[43m_checkout\u001B[49m\u001B[43m(\u001B[49m\u001B[38;5;28;43mself\u001B[39;49m\u001B[43m)\u001B[49m\n",
      "\u001B[36mFile \u001B[39m\u001B[32mC:\\Projet\\DATA ENGiNEERING\\data_warehouse\\.venv\\Lib\\site-packages\\sqlalchemy\\pool\\base.py:1263\u001B[39m, in \u001B[36m_ConnectionFairy._checkout\u001B[39m\u001B[34m(cls, pool, threadconns, fairy)\u001B[39m\n\u001B[32m   1255\u001B[39m \u001B[38;5;129m@classmethod\u001B[39m\n\u001B[32m   1256\u001B[39m \u001B[38;5;28;01mdef\u001B[39;00m\u001B[38;5;250m \u001B[39m\u001B[34m_checkout\u001B[39m(\n\u001B[32m   1257\u001B[39m     \u001B[38;5;28mcls\u001B[39m,\n\u001B[32m   (...)\u001B[39m\u001B[32m   1260\u001B[39m     fairy: Optional[_ConnectionFairy] = \u001B[38;5;28;01mNone\u001B[39;00m,\n\u001B[32m   1261\u001B[39m ) -> _ConnectionFairy:\n\u001B[32m   1262\u001B[39m     \u001B[38;5;28;01mif\u001B[39;00m \u001B[38;5;129;01mnot\u001B[39;00m fairy:\n\u001B[32m-> \u001B[39m\u001B[32m1263\u001B[39m         fairy = \u001B[43m_ConnectionRecord\u001B[49m\u001B[43m.\u001B[49m\u001B[43mcheckout\u001B[49m\u001B[43m(\u001B[49m\u001B[43mpool\u001B[49m\u001B[43m)\u001B[49m\n\u001B[32m   1265\u001B[39m         \u001B[38;5;28;01mif\u001B[39;00m threadconns \u001B[38;5;129;01mis\u001B[39;00m \u001B[38;5;129;01mnot\u001B[39;00m \u001B[38;5;28;01mNone\u001B[39;00m:\n\u001B[32m   1266\u001B[39m             threadconns.current = weakref.ref(fairy)\n",
      "\u001B[36mFile \u001B[39m\u001B[32mC:\\Projet\\DATA ENGiNEERING\\data_warehouse\\.venv\\Lib\\site-packages\\sqlalchemy\\pool\\base.py:712\u001B[39m, in \u001B[36m_ConnectionRecord.checkout\u001B[39m\u001B[34m(cls, pool)\u001B[39m\n\u001B[32m    710\u001B[39m     rec = cast(_ConnectionRecord, pool._do_get())\n\u001B[32m    711\u001B[39m \u001B[38;5;28;01melse\u001B[39;00m:\n\u001B[32m--> \u001B[39m\u001B[32m712\u001B[39m     rec = \u001B[43mpool\u001B[49m\u001B[43m.\u001B[49m\u001B[43m_do_get\u001B[49m\u001B[43m(\u001B[49m\u001B[43m)\u001B[49m\n\u001B[32m    714\u001B[39m \u001B[38;5;28;01mtry\u001B[39;00m:\n\u001B[32m    715\u001B[39m     dbapi_connection = rec.get_connection()\n",
      "\u001B[36mFile \u001B[39m\u001B[32mC:\\Projet\\DATA ENGiNEERING\\data_warehouse\\.venv\\Lib\\site-packages\\sqlalchemy\\pool\\impl.py:179\u001B[39m, in \u001B[36mQueuePool._do_get\u001B[39m\u001B[34m(self)\u001B[39m\n\u001B[32m    177\u001B[39m     \u001B[38;5;28;01mreturn\u001B[39;00m \u001B[38;5;28mself\u001B[39m._create_connection()\n\u001B[32m    178\u001B[39m \u001B[38;5;28;01mexcept\u001B[39;00m:\n\u001B[32m--> \u001B[39m\u001B[32m179\u001B[39m \u001B[43m    \u001B[49m\u001B[38;5;28;43;01mwith\u001B[39;49;00m\u001B[43m \u001B[49m\u001B[43mutil\u001B[49m\u001B[43m.\u001B[49m\u001B[43msafe_reraise\u001B[49m\u001B[43m(\u001B[49m\u001B[43m)\u001B[49m\u001B[43m:\u001B[49m\n\u001B[32m    180\u001B[39m \u001B[43m        \u001B[49m\u001B[38;5;28;43mself\u001B[39;49m\u001B[43m.\u001B[49m\u001B[43m_dec_overflow\u001B[49m\u001B[43m(\u001B[49m\u001B[43m)\u001B[49m\n\u001B[32m    181\u001B[39m     \u001B[38;5;28;01mraise\u001B[39;00m\n",
      "\u001B[36mFile \u001B[39m\u001B[32mC:\\Projet\\DATA ENGiNEERING\\data_warehouse\\.venv\\Lib\\site-packages\\sqlalchemy\\util\\langhelpers.py:146\u001B[39m, in \u001B[36msafe_reraise.__exit__\u001B[39m\u001B[34m(self, type_, value, traceback)\u001B[39m\n\u001B[32m    144\u001B[39m     \u001B[38;5;28;01massert\u001B[39;00m exc_value \u001B[38;5;129;01mis\u001B[39;00m \u001B[38;5;129;01mnot\u001B[39;00m \u001B[38;5;28;01mNone\u001B[39;00m\n\u001B[32m    145\u001B[39m     \u001B[38;5;28mself\u001B[39m._exc_info = \u001B[38;5;28;01mNone\u001B[39;00m  \u001B[38;5;66;03m# remove potential circular references\u001B[39;00m\n\u001B[32m--> \u001B[39m\u001B[32m146\u001B[39m     \u001B[38;5;28;01mraise\u001B[39;00m exc_value.with_traceback(exc_tb)\n\u001B[32m    147\u001B[39m \u001B[38;5;28;01melse\u001B[39;00m:\n\u001B[32m    148\u001B[39m     \u001B[38;5;28mself\u001B[39m._exc_info = \u001B[38;5;28;01mNone\u001B[39;00m  \u001B[38;5;66;03m# remove potential circular references\u001B[39;00m\n",
      "\u001B[36mFile \u001B[39m\u001B[32mC:\\Projet\\DATA ENGiNEERING\\data_warehouse\\.venv\\Lib\\site-packages\\sqlalchemy\\pool\\impl.py:177\u001B[39m, in \u001B[36mQueuePool._do_get\u001B[39m\u001B[34m(self)\u001B[39m\n\u001B[32m    175\u001B[39m \u001B[38;5;28;01mif\u001B[39;00m \u001B[38;5;28mself\u001B[39m._inc_overflow():\n\u001B[32m    176\u001B[39m     \u001B[38;5;28;01mtry\u001B[39;00m:\n\u001B[32m--> \u001B[39m\u001B[32m177\u001B[39m         \u001B[38;5;28;01mreturn\u001B[39;00m \u001B[38;5;28;43mself\u001B[39;49m\u001B[43m.\u001B[49m\u001B[43m_create_connection\u001B[49m\u001B[43m(\u001B[49m\u001B[43m)\u001B[49m\n\u001B[32m    178\u001B[39m     \u001B[38;5;28;01mexcept\u001B[39;00m:\n\u001B[32m    179\u001B[39m         \u001B[38;5;28;01mwith\u001B[39;00m util.safe_reraise():\n",
      "\u001B[36mFile \u001B[39m\u001B[32mC:\\Projet\\DATA ENGiNEERING\\data_warehouse\\.venv\\Lib\\site-packages\\sqlalchemy\\pool\\base.py:390\u001B[39m, in \u001B[36mPool._create_connection\u001B[39m\u001B[34m(self)\u001B[39m\n\u001B[32m    387\u001B[39m \u001B[38;5;28;01mdef\u001B[39;00m\u001B[38;5;250m \u001B[39m\u001B[34m_create_connection\u001B[39m(\u001B[38;5;28mself\u001B[39m) -> ConnectionPoolEntry:\n\u001B[32m    388\u001B[39m \u001B[38;5;250m    \u001B[39m\u001B[33;03m\"\"\"Called by subclasses to create a new ConnectionRecord.\"\"\"\u001B[39;00m\n\u001B[32m--> \u001B[39m\u001B[32m390\u001B[39m     \u001B[38;5;28;01mreturn\u001B[39;00m \u001B[43m_ConnectionRecord\u001B[49m\u001B[43m(\u001B[49m\u001B[38;5;28;43mself\u001B[39;49m\u001B[43m)\u001B[49m\n",
      "\u001B[36mFile \u001B[39m\u001B[32mC:\\Projet\\DATA ENGiNEERING\\data_warehouse\\.venv\\Lib\\site-packages\\sqlalchemy\\pool\\base.py:674\u001B[39m, in \u001B[36m_ConnectionRecord.__init__\u001B[39m\u001B[34m(self, pool, connect)\u001B[39m\n\u001B[32m    672\u001B[39m \u001B[38;5;28mself\u001B[39m.__pool = pool\n\u001B[32m    673\u001B[39m \u001B[38;5;28;01mif\u001B[39;00m connect:\n\u001B[32m--> \u001B[39m\u001B[32m674\u001B[39m     \u001B[38;5;28;43mself\u001B[39;49m\u001B[43m.\u001B[49m\u001B[43m__connect\u001B[49m\u001B[43m(\u001B[49m\u001B[43m)\u001B[49m\n\u001B[32m    675\u001B[39m \u001B[38;5;28mself\u001B[39m.finalize_callback = deque()\n",
      "\u001B[36mFile \u001B[39m\u001B[32mC:\\Projet\\DATA ENGiNEERING\\data_warehouse\\.venv\\Lib\\site-packages\\sqlalchemy\\pool\\base.py:900\u001B[39m, in \u001B[36m_ConnectionRecord.__connect\u001B[39m\u001B[34m(self)\u001B[39m\n\u001B[32m    898\u001B[39m     \u001B[38;5;28mself\u001B[39m.fresh = \u001B[38;5;28;01mTrue\u001B[39;00m\n\u001B[32m    899\u001B[39m \u001B[38;5;28;01mexcept\u001B[39;00m \u001B[38;5;167;01mBaseException\u001B[39;00m \u001B[38;5;28;01mas\u001B[39;00m e:\n\u001B[32m--> \u001B[39m\u001B[32m900\u001B[39m \u001B[43m    \u001B[49m\u001B[38;5;28;43;01mwith\u001B[39;49;00m\u001B[43m \u001B[49m\u001B[43mutil\u001B[49m\u001B[43m.\u001B[49m\u001B[43msafe_reraise\u001B[49m\u001B[43m(\u001B[49m\u001B[43m)\u001B[49m\u001B[43m:\u001B[49m\n\u001B[32m    901\u001B[39m \u001B[43m        \u001B[49m\u001B[43mpool\u001B[49m\u001B[43m.\u001B[49m\u001B[43mlogger\u001B[49m\u001B[43m.\u001B[49m\u001B[43mdebug\u001B[49m\u001B[43m(\u001B[49m\u001B[33;43m\"\u001B[39;49m\u001B[33;43mError on connect(): \u001B[39;49m\u001B[38;5;132;43;01m%s\u001B[39;49;00m\u001B[33;43m\"\u001B[39;49m\u001B[43m,\u001B[49m\u001B[43m \u001B[49m\u001B[43me\u001B[49m\u001B[43m)\u001B[49m\n\u001B[32m    902\u001B[39m \u001B[38;5;28;01melse\u001B[39;00m:\n\u001B[32m    903\u001B[39m     \u001B[38;5;66;03m# in SQLAlchemy 1.4 the first_connect event is not used by\u001B[39;00m\n\u001B[32m    904\u001B[39m     \u001B[38;5;66;03m# the engine, so this will usually not be set\u001B[39;00m\n",
      "\u001B[36mFile \u001B[39m\u001B[32mC:\\Projet\\DATA ENGiNEERING\\data_warehouse\\.venv\\Lib\\site-packages\\sqlalchemy\\util\\langhelpers.py:146\u001B[39m, in \u001B[36msafe_reraise.__exit__\u001B[39m\u001B[34m(self, type_, value, traceback)\u001B[39m\n\u001B[32m    144\u001B[39m     \u001B[38;5;28;01massert\u001B[39;00m exc_value \u001B[38;5;129;01mis\u001B[39;00m \u001B[38;5;129;01mnot\u001B[39;00m \u001B[38;5;28;01mNone\u001B[39;00m\n\u001B[32m    145\u001B[39m     \u001B[38;5;28mself\u001B[39m._exc_info = \u001B[38;5;28;01mNone\u001B[39;00m  \u001B[38;5;66;03m# remove potential circular references\u001B[39;00m\n\u001B[32m--> \u001B[39m\u001B[32m146\u001B[39m     \u001B[38;5;28;01mraise\u001B[39;00m exc_value.with_traceback(exc_tb)\n\u001B[32m    147\u001B[39m \u001B[38;5;28;01melse\u001B[39;00m:\n\u001B[32m    148\u001B[39m     \u001B[38;5;28mself\u001B[39m._exc_info = \u001B[38;5;28;01mNone\u001B[39;00m  \u001B[38;5;66;03m# remove potential circular references\u001B[39;00m\n",
      "\u001B[36mFile \u001B[39m\u001B[32mC:\\Projet\\DATA ENGiNEERING\\data_warehouse\\.venv\\Lib\\site-packages\\sqlalchemy\\pool\\base.py:896\u001B[39m, in \u001B[36m_ConnectionRecord.__connect\u001B[39m\u001B[34m(self)\u001B[39m\n\u001B[32m    894\u001B[39m \u001B[38;5;28;01mtry\u001B[39;00m:\n\u001B[32m    895\u001B[39m     \u001B[38;5;28mself\u001B[39m.starttime = time.time()\n\u001B[32m--> \u001B[39m\u001B[32m896\u001B[39m     \u001B[38;5;28mself\u001B[39m.dbapi_connection = connection = \u001B[43mpool\u001B[49m\u001B[43m.\u001B[49m\u001B[43m_invoke_creator\u001B[49m\u001B[43m(\u001B[49m\u001B[38;5;28;43mself\u001B[39;49m\u001B[43m)\u001B[49m\n\u001B[32m    897\u001B[39m     pool.logger.debug(\u001B[33m\"\u001B[39m\u001B[33mCreated new connection \u001B[39m\u001B[38;5;132;01m%r\u001B[39;00m\u001B[33m\"\u001B[39m, connection)\n\u001B[32m    898\u001B[39m     \u001B[38;5;28mself\u001B[39m.fresh = \u001B[38;5;28;01mTrue\u001B[39;00m\n",
      "\u001B[36mFile \u001B[39m\u001B[32mC:\\Projet\\DATA ENGiNEERING\\data_warehouse\\.venv\\Lib\\site-packages\\sqlalchemy\\engine\\create.py:646\u001B[39m, in \u001B[36mcreate_engine.<locals>.connect\u001B[39m\u001B[34m(connection_record)\u001B[39m\n\u001B[32m    643\u001B[39m         \u001B[38;5;28;01mif\u001B[39;00m connection \u001B[38;5;129;01mis\u001B[39;00m \u001B[38;5;129;01mnot\u001B[39;00m \u001B[38;5;28;01mNone\u001B[39;00m:\n\u001B[32m    644\u001B[39m             \u001B[38;5;28;01mreturn\u001B[39;00m connection\n\u001B[32m--> \u001B[39m\u001B[32m646\u001B[39m \u001B[38;5;28;01mreturn\u001B[39;00m \u001B[43mdialect\u001B[49m\u001B[43m.\u001B[49m\u001B[43mconnect\u001B[49m\u001B[43m(\u001B[49m\u001B[43m*\u001B[49m\u001B[43mcargs\u001B[49m\u001B[43m,\u001B[49m\u001B[43m \u001B[49m\u001B[43m*\u001B[49m\u001B[43m*\u001B[49m\u001B[43mcparams\u001B[49m\u001B[43m)\u001B[49m\n",
      "\u001B[36mFile \u001B[39m\u001B[32mC:\\Projet\\DATA ENGiNEERING\\data_warehouse\\.venv\\Lib\\site-packages\\sqlalchemy\\engine\\default.py:622\u001B[39m, in \u001B[36mDefaultDialect.connect\u001B[39m\u001B[34m(self, *cargs, **cparams)\u001B[39m\n\u001B[32m    620\u001B[39m \u001B[38;5;28;01mdef\u001B[39;00m\u001B[38;5;250m \u001B[39m\u001B[34mconnect\u001B[39m(\u001B[38;5;28mself\u001B[39m, *cargs, **cparams):\n\u001B[32m    621\u001B[39m     \u001B[38;5;66;03m# inherits the docstring from interfaces.Dialect.connect\u001B[39;00m\n\u001B[32m--> \u001B[39m\u001B[32m622\u001B[39m     \u001B[38;5;28;01mreturn\u001B[39;00m \u001B[38;5;28;43mself\u001B[39;49m\u001B[43m.\u001B[49m\u001B[43mloaded_dbapi\u001B[49m\u001B[43m.\u001B[49m\u001B[43mconnect\u001B[49m\u001B[43m(\u001B[49m\u001B[43m*\u001B[49m\u001B[43mcargs\u001B[49m\u001B[43m,\u001B[49m\u001B[43m \u001B[49m\u001B[43m*\u001B[49m\u001B[43m*\u001B[49m\u001B[43mcparams\u001B[49m\u001B[43m)\u001B[49m\n",
      "\u001B[36mFile \u001B[39m\u001B[32mC:\\Projet\\DATA ENGiNEERING\\data_warehouse\\.venv\\Lib\\site-packages\\psycopg2\\__init__.py:122\u001B[39m, in \u001B[36mconnect\u001B[39m\u001B[34m(dsn, connection_factory, cursor_factory, **kwargs)\u001B[39m\n\u001B[32m    119\u001B[39m     kwasync[\u001B[33m'\u001B[39m\u001B[33masync_\u001B[39m\u001B[33m'\u001B[39m] = kwargs.pop(\u001B[33m'\u001B[39m\u001B[33masync_\u001B[39m\u001B[33m'\u001B[39m)\n\u001B[32m    121\u001B[39m dsn = _ext.make_dsn(dsn, **kwargs)\n\u001B[32m--> \u001B[39m\u001B[32m122\u001B[39m conn = \u001B[43m_connect\u001B[49m\u001B[43m(\u001B[49m\u001B[43mdsn\u001B[49m\u001B[43m,\u001B[49m\u001B[43m \u001B[49m\u001B[43mconnection_factory\u001B[49m\u001B[43m=\u001B[49m\u001B[43mconnection_factory\u001B[49m\u001B[43m,\u001B[49m\u001B[43m \u001B[49m\u001B[43m*\u001B[49m\u001B[43m*\u001B[49m\u001B[43mkwasync\u001B[49m\u001B[43m)\u001B[49m\n\u001B[32m    123\u001B[39m \u001B[38;5;28;01mif\u001B[39;00m cursor_factory \u001B[38;5;129;01mis\u001B[39;00m \u001B[38;5;129;01mnot\u001B[39;00m \u001B[38;5;28;01mNone\u001B[39;00m:\n\u001B[32m    124\u001B[39m     conn.cursor_factory = cursor_factory\n",
      "\u001B[31mOperationalError\u001B[39m: (psycopg2.OperationalError) connection to server at \"localhost\" (::1), port 5432 failed: Connection refused (0x0000274D/10061)\n\tIs the server running on that host and accepting TCP/IP connections?\nconnection to server at \"localhost\" (127.0.0.1), port 5432 failed: Connection refused (0x0000274D/10061)\n\tIs the server running on that host and accepting TCP/IP connections?\n\n(Background on this error at: https://sqlalche.me/e/20/e3q8)"
     ]
    }
   ],
   "source": [
    "sales = pd.read_sql('sales',engine)\n",
    "customers = pd.read_sql('customers',engine)\n",
    "products = pd.read_sql('products',engine)"
   ],
   "metadata": {
    "collapsed": false,
    "ExecuteTime": {
     "end_time": "2025-03-10T00:03:19.942919Z",
     "start_time": "2025-03-10T00:03:14.951938Z"
    }
   },
   "id": "4931ca4057c65c94",
   "execution_count": 5
  },
  {
   "cell_type": "code",
   "outputs": [],
   "source": [
    "#####      Cleaning        ###### \n",
    "##### I'll first deal with CustomerNo ==> integer instead of float\n",
    "##### Then I'll deal with Null Values \n",
    "##### And I'll clean the country coulumn "
   ],
   "metadata": {
    "collapsed": false
   },
   "id": "f73ac6bbf28609ad"
  },
  {
   "cell_type": "code",
   "outputs": [
    {
     "data": {
      "text/plain": "   index TransactionNo       Date ProductNo  Price  Quantity  CustomerNo  \\\n0      0        581482  12/9/2019     22485  21.47        12     17490.0   \n1      1        581475  12/9/2019     22596  10.65        36     13069.0   \n2      2        581475  12/9/2019     23235  11.53        12     13069.0   \n3      3        581475  12/9/2019     23272  10.65        12     13069.0   \n4      4        581475  12/9/2019     23239  11.94         6     13069.0   \n\n  date_shippped     status      Country_Noise  \n0          None  Cancelled     united kingdom  \n1          None    Pending    %United Kingdom  \n2    2019-12-26  Completed   United Kinnngdom  \n3          None    Pending  UUUUnited Kingdom  \n4          None  Cancelled    United K!ingdom  ",
      "text/html": "<div>\n<style scoped>\n    .dataframe tbody tr th:only-of-type {\n        vertical-align: middle;\n    }\n\n    .dataframe tbody tr th {\n        vertical-align: top;\n    }\n\n    .dataframe thead th {\n        text-align: right;\n    }\n</style>\n<table border=\"1\" class=\"dataframe\">\n  <thead>\n    <tr style=\"text-align: right;\">\n      <th></th>\n      <th>index</th>\n      <th>TransactionNo</th>\n      <th>Date</th>\n      <th>ProductNo</th>\n      <th>Price</th>\n      <th>Quantity</th>\n      <th>CustomerNo</th>\n      <th>date_shippped</th>\n      <th>status</th>\n      <th>Country_Noise</th>\n    </tr>\n  </thead>\n  <tbody>\n    <tr>\n      <th>0</th>\n      <td>0</td>\n      <td>581482</td>\n      <td>12/9/2019</td>\n      <td>22485</td>\n      <td>21.47</td>\n      <td>12</td>\n      <td>17490.0</td>\n      <td>None</td>\n      <td>Cancelled</td>\n      <td>united kingdom</td>\n    </tr>\n    <tr>\n      <th>1</th>\n      <td>1</td>\n      <td>581475</td>\n      <td>12/9/2019</td>\n      <td>22596</td>\n      <td>10.65</td>\n      <td>36</td>\n      <td>13069.0</td>\n      <td>None</td>\n      <td>Pending</td>\n      <td>%United Kingdom</td>\n    </tr>\n    <tr>\n      <th>2</th>\n      <td>2</td>\n      <td>581475</td>\n      <td>12/9/2019</td>\n      <td>23235</td>\n      <td>11.53</td>\n      <td>12</td>\n      <td>13069.0</td>\n      <td>2019-12-26</td>\n      <td>Completed</td>\n      <td>United Kinnngdom</td>\n    </tr>\n    <tr>\n      <th>3</th>\n      <td>3</td>\n      <td>581475</td>\n      <td>12/9/2019</td>\n      <td>23272</td>\n      <td>10.65</td>\n      <td>12</td>\n      <td>13069.0</td>\n      <td>None</td>\n      <td>Pending</td>\n      <td>UUUUnited Kingdom</td>\n    </tr>\n    <tr>\n      <th>4</th>\n      <td>4</td>\n      <td>581475</td>\n      <td>12/9/2019</td>\n      <td>23239</td>\n      <td>11.94</td>\n      <td>6</td>\n      <td>13069.0</td>\n      <td>None</td>\n      <td>Cancelled</td>\n      <td>United K!ingdom</td>\n    </tr>\n  </tbody>\n</table>\n</div>"
     },
     "execution_count": 41,
     "metadata": {},
     "output_type": "execute_result"
    }
   ],
   "source": [
    "sales.head()"
   ],
   "metadata": {
    "collapsed": false,
    "ExecuteTime": {
     "end_time": "2025-03-08T22:17:39.843495Z",
     "start_time": "2025-03-08T22:17:39.834415Z"
    }
   },
   "id": "8ffb8daccb16140a",
   "execution_count": 41
  },
  {
   "cell_type": "code",
   "outputs": [
    {
     "data": {
      "text/plain": "index            False\nTransactionNo    False\nDate             False\nProductNo        False\nPrice            False\nQuantity         False\nCustomerNo        True\ndate_shippped     True\nstatus           False\nCountry_Noise    False\ndtype: bool"
     },
     "execution_count": 42,
     "metadata": {},
     "output_type": "execute_result"
    }
   ],
   "source": [
    "sales.isnull().any()"
   ],
   "metadata": {
    "collapsed": false,
    "ExecuteTime": {
     "end_time": "2025-03-08T22:17:41.691036Z",
     "start_time": "2025-03-08T22:17:41.523311Z"
    }
   },
   "id": "755ee2facab26715",
   "execution_count": 42
  },
  {
   "cell_type": "code",
   "outputs": [],
   "source": [
    "sales['CustomerNo'] = pd.to_numeric(sales['CustomerNo'], errors='coerce').astype('Int64')"
   ],
   "metadata": {
    "collapsed": false,
    "ExecuteTime": {
     "end_time": "2025-03-08T22:17:44.655562Z",
     "start_time": "2025-03-08T22:17:44.607938Z"
    }
   },
   "id": "5864cc0dd557ff26",
   "execution_count": 43
  },
  {
   "cell_type": "code",
   "outputs": [
    {
     "data": {
      "text/plain": "index              int64\nTransactionNo     object\nDate              object\nProductNo         object\nPrice            float64\nQuantity           int64\nCustomerNo         Int64\ndate_shippped     object\nstatus            object\nCountry_Noise     object\ndtype: object"
     },
     "execution_count": 44,
     "metadata": {},
     "output_type": "execute_result"
    }
   ],
   "source": [
    "sales.dtypes"
   ],
   "metadata": {
    "collapsed": false,
    "ExecuteTime": {
     "end_time": "2025-03-08T22:17:45.441868Z",
     "start_time": "2025-03-08T22:17:45.435590Z"
    }
   },
   "id": "74668226afe951d5",
   "execution_count": 44
  },
  {
   "cell_type": "code",
   "outputs": [
    {
     "data": {
      "text/plain": "0    17490\n1    13069\n2    13069\n3    13069\n4    13069\nName: CustomerNo, dtype: Int64"
     },
     "execution_count": 45,
     "metadata": {},
     "output_type": "execute_result"
    }
   ],
   "source": [
    "sales['CustomerNo'].head()"
   ],
   "metadata": {
    "collapsed": false,
    "ExecuteTime": {
     "end_time": "2025-03-08T22:17:46.915343Z",
     "start_time": "2025-03-08T22:17:46.909261Z"
    }
   },
   "id": "9d1ab6806c9c0392",
   "execution_count": 45
  },
  {
   "cell_type": "code",
   "outputs": [],
   "source": [
    "### 0 ==> unknown ####\n",
    "sales['CustomerNo'] = sales['CustomerNo'].fillna(0)"
   ],
   "metadata": {
    "collapsed": false,
    "ExecuteTime": {
     "end_time": "2025-03-08T22:17:49.801835Z",
     "start_time": "2025-03-08T22:17:49.796099Z"
    }
   },
   "id": "e740f1bfab72c580",
   "execution_count": 46
  },
  {
   "cell_type": "code",
   "outputs": [
    {
     "data": {
      "text/plain": "<IntegerArray>\n[18287, 18283, 18282, 18281, 18280, 18278, 18277, 18276, 18274, 18273,\n ...\n 12042, 12031, 12026, 12025, 12024, 12013, 12008, 12006, 12004,     0]\nLength: 4739, dtype: Int64"
     },
     "execution_count": 47,
     "metadata": {},
     "output_type": "execute_result"
    }
   ],
   "source": [
    "sales['CustomerNo'].sort_values(ascending=False).unique()"
   ],
   "metadata": {
    "collapsed": false,
    "ExecuteTime": {
     "end_time": "2025-03-08T22:17:51.239264Z",
     "start_time": "2025-03-08T22:17:51.198162Z"
    }
   },
   "id": "ef98dc671f5cef2c",
   "execution_count": 47
  },
  {
   "cell_type": "code",
   "outputs": [],
   "source": [
    "sales['date_shippped'] = sales['date_shippped'].fillna(1999-12-31)"
   ],
   "metadata": {
    "collapsed": false,
    "ExecuteTime": {
     "end_time": "2025-03-08T22:18:24.181437Z",
     "start_time": "2025-03-08T22:18:24.112449Z"
    }
   },
   "id": "a0c49bf25fa14d3a",
   "execution_count": 48
  },
  {
   "cell_type": "code",
   "outputs": [],
   "source": [
    "sales['date_shipped'] = pd.to_datetime(sales['date_shippped'],errors='coerce')"
   ],
   "metadata": {
    "collapsed": false,
    "ExecuteTime": {
     "end_time": "2025-03-08T22:18:25.080139Z",
     "start_time": "2025-03-08T22:18:25.010538Z"
    }
   },
   "id": "3716874a643c5510",
   "execution_count": 49
  },
  {
   "cell_type": "code",
   "outputs": [
    {
     "data": {
      "text/plain": "Timestamp('1970-01-01 00:00:00.000001956')"
     },
     "execution_count": 51,
     "metadata": {},
     "output_type": "execute_result"
    }
   ],
   "source": [
    "sales['date_shipped'].min()"
   ],
   "metadata": {
    "collapsed": false,
    "ExecuteTime": {
     "end_time": "2025-03-08T22:18:30.925932Z",
     "start_time": "2025-03-08T22:18:30.921090Z"
    }
   },
   "id": "c33c55e6f1cf904b",
   "execution_count": 51
  },
  {
   "cell_type": "code",
   "outputs": [
    {
     "data": {
      "text/plain": "index            False\nTransactionNo    False\nDate             False\nProductNo        False\nPrice            False\nQuantity         False\nCustomerNo       False\ndate_shippped    False\nstatus           False\nCountry_Noise    False\ndate_shipped     False\ndtype: bool"
     },
     "execution_count": 52,
     "metadata": {},
     "output_type": "execute_result"
    }
   ],
   "source": [],
   "metadata": {
    "collapsed": false,
    "ExecuteTime": {
     "end_time": "2025-03-08T22:18:47.238576Z",
     "start_time": "2025-03-08T22:18:47.069462Z"
    }
   },
   "id": "ada95d7fd810a35f",
   "execution_count": 52
  },
  {
   "cell_type": "markdown",
   "source": [],
   "metadata": {
    "collapsed": false
   },
   "id": "399dd8e480cc92e1"
  },
  {
   "cell_type": "code",
   "outputs": [
    {
     "ename": "NameError",
     "evalue": "name 'sales' is not defined",
     "output_type": "error",
     "traceback": [
      "\u001B[31m---------------------------------------------------------------------------\u001B[39m",
      "\u001B[31mNameError\u001B[39m                                 Traceback (most recent call last)",
      "\u001B[36mCell\u001B[39m\u001B[36m \u001B[39m\u001B[32mIn[1]\u001B[39m\u001B[32m, line 3\u001B[39m\n\u001B[32m      1\u001B[39m \u001B[38;5;66;03m#### first let's get rid of special caracters\u001B[39;00m\n\u001B[32m      2\u001B[39m \u001B[38;5;66;03m#sales['Country_Noise'].str.replace(r'\\s+',' ').str.lower().str.strip().str.replace(r'[*,%@-/!$£]+','')\u001B[39;00m\n\u001B[32m----> \u001B[39m\u001B[32m3\u001B[39m sales[\u001B[33m'\u001B[39m\u001B[33mcleaned_country\u001B[39m\u001B[33m'\u001B[39m] = (\u001B[43msales\u001B[49m[\u001B[33m'\u001B[39m\u001B[33mCountry_Noise\u001B[39m\u001B[33m'\u001B[39m]\n\u001B[32m      4\u001B[39m     .str.lower()\n\u001B[32m      5\u001B[39m     .str.replace(\u001B[33mr\u001B[39m\u001B[33m'\u001B[39m\u001B[33m[^a-z\u001B[39m\u001B[33m\\\u001B[39m\u001B[33ms]\u001B[39m\u001B[33m'\u001B[39m, \u001B[33m'\u001B[39m\u001B[33m'\u001B[39m, regex=\u001B[38;5;28;01mTrue\u001B[39;00m)\n\u001B[32m      6\u001B[39m     .str.replace(\u001B[33mr\u001B[39m\u001B[33m'\u001B[39m\u001B[33m\\\u001B[39m\u001B[33ms+\u001B[39m\u001B[33m'\u001B[39m,\u001B[33m'\u001B[39m\u001B[33m \u001B[39m\u001B[33m'\u001B[39m,regex=\u001B[38;5;28;01mTrue\u001B[39;00m)\n\u001B[32m      7\u001B[39m     .str.strip()\n\u001B[32m      8\u001B[39m  )\n",
      "\u001B[31mNameError\u001B[39m: name 'sales' is not defined"
     ]
    }
   ],
   "source": [
    "#### first let's get rid of special caracters\n",
    "#sales['Country_Noise'].str.replace(r'\\s+',' ').str.lower().str.strip().str.replace(r'[*,%@-/!$£]+','')\n",
    "sales['cleaned_country'] = (sales['Country_Noise']\n",
    "    .str.lower()\n",
    "    .str.replace(r'[^a-z\\s]', '', regex=True)\n",
    "    .str.replace(r'\\s+',' ',regex=True)\n",
    "    .str.strip()\n",
    " )"
   ],
   "metadata": {
    "collapsed": false,
    "ExecuteTime": {
     "end_time": "2025-03-10T00:02:54.807560Z",
     "start_time": "2025-03-10T00:02:54.551558Z"
    }
   },
   "id": "58b92223a3a3e18a",
   "execution_count": 1
  },
  {
   "cell_type": "code",
   "outputs": [
    {
     "ename": "MemoryError",
     "evalue": "Unable to allocate 1023. MiB for an array with shape (250, 536350) and data type float64",
     "output_type": "error",
     "traceback": [
      "\u001B[31m---------------------------------------------------------------------------\u001B[39m",
      "\u001B[31mMemoryError\u001B[39m                               Traceback (most recent call last)",
      "\u001B[36mCell\u001B[39m\u001B[36m \u001B[39m\u001B[32mIn[72]\u001B[39m\u001B[32m, line 3\u001B[39m\n\u001B[32m      1\u001B[39m vectorizer = TfidfVectorizer()\n\u001B[32m      2\u001B[39m X = vectorizer.fit_transform(sales[\u001B[33m\"\u001B[39m\u001B[33mcleaned_country\u001B[39m\u001B[33m\"\u001B[39m])\n\u001B[32m----> \u001B[39m\u001B[32m3\u001B[39m clustering = \u001B[43mDBSCAN\u001B[49m\u001B[43m(\u001B[49m\u001B[43meps\u001B[49m\u001B[43m=\u001B[49m\u001B[32;43m0.5\u001B[39;49m\u001B[43m,\u001B[49m\u001B[43m \u001B[49m\u001B[43mmin_samples\u001B[49m\u001B[43m=\u001B[49m\u001B[32;43m2\u001B[39;49m\u001B[43m,\u001B[49m\u001B[43m \u001B[49m\u001B[43mmetric\u001B[49m\u001B[43m=\u001B[49m\u001B[33;43m\"\u001B[39;49m\u001B[33;43mcosine\u001B[39;49m\u001B[33;43m\"\u001B[39;49m\u001B[43m)\u001B[49m\u001B[43m.\u001B[49m\u001B[43mfit\u001B[49m\u001B[43m(\u001B[49m\u001B[43mX\u001B[49m\u001B[43m)\u001B[49m\n\u001B[32m      5\u001B[39m \u001B[38;5;66;03m# Add cluster labels to DataFrame\u001B[39;00m\n\u001B[32m      6\u001B[39m sales[\u001B[33m\"\u001B[39m\u001B[33mcluster\u001B[39m\u001B[33m\"\u001B[39m] = clustering.labels_\n",
      "\u001B[36mFile \u001B[39m\u001B[32mC:\\Projet\\DATA ENGiNEERING\\data_warehouse\\.venv\\Lib\\site-packages\\sklearn\\base.py:1389\u001B[39m, in \u001B[36m_fit_context.<locals>.decorator.<locals>.wrapper\u001B[39m\u001B[34m(estimator, *args, **kwargs)\u001B[39m\n\u001B[32m   1382\u001B[39m     estimator._validate_params()\n\u001B[32m   1384\u001B[39m \u001B[38;5;28;01mwith\u001B[39;00m config_context(\n\u001B[32m   1385\u001B[39m     skip_parameter_validation=(\n\u001B[32m   1386\u001B[39m         prefer_skip_nested_validation \u001B[38;5;129;01mor\u001B[39;00m global_skip_validation\n\u001B[32m   1387\u001B[39m     )\n\u001B[32m   1388\u001B[39m ):\n\u001B[32m-> \u001B[39m\u001B[32m1389\u001B[39m     \u001B[38;5;28;01mreturn\u001B[39;00m \u001B[43mfit_method\u001B[49m\u001B[43m(\u001B[49m\u001B[43mestimator\u001B[49m\u001B[43m,\u001B[49m\u001B[43m \u001B[49m\u001B[43m*\u001B[49m\u001B[43margs\u001B[49m\u001B[43m,\u001B[49m\u001B[43m \u001B[49m\u001B[43m*\u001B[49m\u001B[43m*\u001B[49m\u001B[43mkwargs\u001B[49m\u001B[43m)\u001B[49m\n",
      "\u001B[36mFile \u001B[39m\u001B[32mC:\\Projet\\DATA ENGiNEERING\\data_warehouse\\.venv\\Lib\\site-packages\\sklearn\\cluster\\_dbscan.py:418\u001B[39m, in \u001B[36mDBSCAN.fit\u001B[39m\u001B[34m(self, X, y, sample_weight)\u001B[39m\n\u001B[32m    416\u001B[39m neighbors_model.fit(X)\n\u001B[32m    417\u001B[39m \u001B[38;5;66;03m# This has worst case O(n^2) memory complexity\u001B[39;00m\n\u001B[32m--> \u001B[39m\u001B[32m418\u001B[39m neighborhoods = \u001B[43mneighbors_model\u001B[49m\u001B[43m.\u001B[49m\u001B[43mradius_neighbors\u001B[49m\u001B[43m(\u001B[49m\u001B[43mX\u001B[49m\u001B[43m,\u001B[49m\u001B[43m \u001B[49m\u001B[43mreturn_distance\u001B[49m\u001B[43m=\u001B[49m\u001B[38;5;28;43;01mFalse\u001B[39;49;00m\u001B[43m)\u001B[49m\n\u001B[32m    420\u001B[39m \u001B[38;5;28;01mif\u001B[39;00m sample_weight \u001B[38;5;129;01mis\u001B[39;00m \u001B[38;5;28;01mNone\u001B[39;00m:\n\u001B[32m    421\u001B[39m     n_neighbors = np.array([\u001B[38;5;28mlen\u001B[39m(neighbors) \u001B[38;5;28;01mfor\u001B[39;00m neighbors \u001B[38;5;129;01min\u001B[39;00m neighborhoods])\n",
      "\u001B[36mFile \u001B[39m\u001B[32mC:\\Projet\\DATA ENGiNEERING\\data_warehouse\\.venv\\Lib\\site-packages\\sklearn\\neighbors\\_base.py:1258\u001B[39m, in \u001B[36mRadiusNeighborsMixin.radius_neighbors\u001B[39m\u001B[34m(self, X, radius, return_distance, sort_results)\u001B[39m\n\u001B[32m   1256\u001B[39m     results = neigh_dist, neigh_ind\n\u001B[32m   1257\u001B[39m \u001B[38;5;28;01melse\u001B[39;00m:\n\u001B[32m-> \u001B[39m\u001B[32m1258\u001B[39m     neigh_ind_list = \u001B[38;5;28;43msum\u001B[39;49m\u001B[43m(\u001B[49m\u001B[43mchunked_results\u001B[49m\u001B[43m,\u001B[49m\u001B[43m \u001B[49m\u001B[43m[\u001B[49m\u001B[43m]\u001B[49m\u001B[43m)\u001B[49m\n\u001B[32m   1259\u001B[39m     results = _to_object_array(neigh_ind_list)\n\u001B[32m   1261\u001B[39m \u001B[38;5;28;01mif\u001B[39;00m sort_results:\n",
      "\u001B[36mFile \u001B[39m\u001B[32mC:\\Projet\\DATA ENGiNEERING\\data_warehouse\\.venv\\Lib\\site-packages\\sklearn\\metrics\\pairwise.py:2252\u001B[39m, in \u001B[36mpairwise_distances_chunked\u001B[39m\u001B[34m(X, Y, reduce_func, metric, n_jobs, working_memory, **kwds)\u001B[39m\n\u001B[32m   2250\u001B[39m \u001B[38;5;28;01melse\u001B[39;00m:\n\u001B[32m   2251\u001B[39m     X_chunk = X[sl]\n\u001B[32m-> \u001B[39m\u001B[32m2252\u001B[39m D_chunk = \u001B[43mpairwise_distances\u001B[49m\u001B[43m(\u001B[49m\u001B[43mX_chunk\u001B[49m\u001B[43m,\u001B[49m\u001B[43m \u001B[49m\u001B[43mY\u001B[49m\u001B[43m,\u001B[49m\u001B[43m \u001B[49m\u001B[43mmetric\u001B[49m\u001B[43m=\u001B[49m\u001B[43mmetric\u001B[49m\u001B[43m,\u001B[49m\u001B[43m \u001B[49m\u001B[43mn_jobs\u001B[49m\u001B[43m=\u001B[49m\u001B[43mn_jobs\u001B[49m\u001B[43m,\u001B[49m\u001B[43m \u001B[49m\u001B[43m*\u001B[49m\u001B[43m*\u001B[49m\u001B[43mkwds\u001B[49m\u001B[43m)\u001B[49m\n\u001B[32m   2253\u001B[39m \u001B[38;5;28;01mif\u001B[39;00m (X \u001B[38;5;129;01mis\u001B[39;00m Y \u001B[38;5;129;01mor\u001B[39;00m Y \u001B[38;5;129;01mis\u001B[39;00m \u001B[38;5;28;01mNone\u001B[39;00m) \u001B[38;5;129;01mand\u001B[39;00m PAIRWISE_DISTANCE_FUNCTIONS.get(\n\u001B[32m   2254\u001B[39m     metric, \u001B[38;5;28;01mNone\u001B[39;00m\n\u001B[32m   2255\u001B[39m ) \u001B[38;5;129;01mis\u001B[39;00m euclidean_distances:\n\u001B[32m   2256\u001B[39m     \u001B[38;5;66;03m# zeroing diagonal, taking care of aliases of \"euclidean\",\u001B[39;00m\n\u001B[32m   2257\u001B[39m     \u001B[38;5;66;03m# i.e. \"l2\"\u001B[39;00m\n\u001B[32m   2258\u001B[39m     D_chunk.flat[sl.start :: _num_samples(X) + \u001B[32m1\u001B[39m] = \u001B[32m0\u001B[39m\n",
      "\u001B[36mFile \u001B[39m\u001B[32mC:\\Projet\\DATA ENGiNEERING\\data_warehouse\\.venv\\Lib\\site-packages\\sklearn\\utils\\_param_validation.py:216\u001B[39m, in \u001B[36mvalidate_params.<locals>.decorator.<locals>.wrapper\u001B[39m\u001B[34m(*args, **kwargs)\u001B[39m\n\u001B[32m    210\u001B[39m \u001B[38;5;28;01mtry\u001B[39;00m:\n\u001B[32m    211\u001B[39m     \u001B[38;5;28;01mwith\u001B[39;00m config_context(\n\u001B[32m    212\u001B[39m         skip_parameter_validation=(\n\u001B[32m    213\u001B[39m             prefer_skip_nested_validation \u001B[38;5;129;01mor\u001B[39;00m global_skip_validation\n\u001B[32m    214\u001B[39m         )\n\u001B[32m    215\u001B[39m     ):\n\u001B[32m--> \u001B[39m\u001B[32m216\u001B[39m         \u001B[38;5;28;01mreturn\u001B[39;00m \u001B[43mfunc\u001B[49m\u001B[43m(\u001B[49m\u001B[43m*\u001B[49m\u001B[43margs\u001B[49m\u001B[43m,\u001B[49m\u001B[43m \u001B[49m\u001B[43m*\u001B[49m\u001B[43m*\u001B[49m\u001B[43mkwargs\u001B[49m\u001B[43m)\u001B[49m\n\u001B[32m    217\u001B[39m \u001B[38;5;28;01mexcept\u001B[39;00m InvalidParameterError \u001B[38;5;28;01mas\u001B[39;00m e:\n\u001B[32m    218\u001B[39m     \u001B[38;5;66;03m# When the function is just a wrapper around an estimator, we allow\u001B[39;00m\n\u001B[32m    219\u001B[39m     \u001B[38;5;66;03m# the function to delegate validation to the estimator, but we replace\u001B[39;00m\n\u001B[32m    220\u001B[39m     \u001B[38;5;66;03m# the name of the estimator by the name of the function in the error\u001B[39;00m\n\u001B[32m    221\u001B[39m     \u001B[38;5;66;03m# message to avoid confusion.\u001B[39;00m\n\u001B[32m    222\u001B[39m     msg = re.sub(\n\u001B[32m    223\u001B[39m         \u001B[33mr\u001B[39m\u001B[33m\"\u001B[39m\u001B[33mparameter of \u001B[39m\u001B[33m\\\u001B[39m\u001B[33mw+ must be\u001B[39m\u001B[33m\"\u001B[39m,\n\u001B[32m    224\u001B[39m         \u001B[33mf\u001B[39m\u001B[33m\"\u001B[39m\u001B[33mparameter of \u001B[39m\u001B[38;5;132;01m{\u001B[39;00mfunc.\u001B[34m__qualname__\u001B[39m\u001B[38;5;132;01m}\u001B[39;00m\u001B[33m must be\u001B[39m\u001B[33m\"\u001B[39m,\n\u001B[32m    225\u001B[39m         \u001B[38;5;28mstr\u001B[39m(e),\n\u001B[32m    226\u001B[39m     )\n",
      "\u001B[36mFile \u001B[39m\u001B[32mC:\\Projet\\DATA ENGiNEERING\\data_warehouse\\.venv\\Lib\\site-packages\\sklearn\\metrics\\pairwise.py:2480\u001B[39m, in \u001B[36mpairwise_distances\u001B[39m\u001B[34m(X, Y, metric, n_jobs, force_all_finite, ensure_all_finite, **kwds)\u001B[39m\n\u001B[32m   2477\u001B[39m         \u001B[38;5;28;01mreturn\u001B[39;00m distance.squareform(distance.pdist(X, metric=metric, **kwds))\n\u001B[32m   2478\u001B[39m     func = partial(distance.cdist, metric=metric, **kwds)\n\u001B[32m-> \u001B[39m\u001B[32m2480\u001B[39m \u001B[38;5;28;01mreturn\u001B[39;00m \u001B[43m_parallel_pairwise\u001B[49m\u001B[43m(\u001B[49m\u001B[43mX\u001B[49m\u001B[43m,\u001B[49m\u001B[43m \u001B[49m\u001B[43mY\u001B[49m\u001B[43m,\u001B[49m\u001B[43m \u001B[49m\u001B[43mfunc\u001B[49m\u001B[43m,\u001B[49m\u001B[43m \u001B[49m\u001B[43mn_jobs\u001B[49m\u001B[43m,\u001B[49m\u001B[43m \u001B[49m\u001B[43m*\u001B[49m\u001B[43m*\u001B[49m\u001B[43mkwds\u001B[49m\u001B[43m)\u001B[49m\n",
      "\u001B[36mFile \u001B[39m\u001B[32mC:\\Projet\\DATA ENGiNEERING\\data_warehouse\\.venv\\Lib\\site-packages\\sklearn\\metrics\\pairwise.py:1973\u001B[39m, in \u001B[36m_parallel_pairwise\u001B[39m\u001B[34m(X, Y, func, n_jobs, **kwds)\u001B[39m\n\u001B[32m   1970\u001B[39m X, Y, dtype = _return_float_dtype(X, Y)\n\u001B[32m   1972\u001B[39m \u001B[38;5;28;01mif\u001B[39;00m effective_n_jobs(n_jobs) == \u001B[32m1\u001B[39m:\n\u001B[32m-> \u001B[39m\u001B[32m1973\u001B[39m     \u001B[38;5;28;01mreturn\u001B[39;00m \u001B[43mfunc\u001B[49m\u001B[43m(\u001B[49m\u001B[43mX\u001B[49m\u001B[43m,\u001B[49m\u001B[43m \u001B[49m\u001B[43mY\u001B[49m\u001B[43m,\u001B[49m\u001B[43m \u001B[49m\u001B[43m*\u001B[49m\u001B[43m*\u001B[49m\u001B[43mkwds\u001B[49m\u001B[43m)\u001B[49m\n\u001B[32m   1975\u001B[39m \u001B[38;5;66;03m# enforce a threading backend to prevent data communication overhead\u001B[39;00m\n\u001B[32m   1976\u001B[39m fd = delayed(_dist_wrapper)\n",
      "\u001B[36mFile \u001B[39m\u001B[32mC:\\Projet\\DATA ENGiNEERING\\data_warehouse\\.venv\\Lib\\site-packages\\sklearn\\utils\\_param_validation.py:189\u001B[39m, in \u001B[36mvalidate_params.<locals>.decorator.<locals>.wrapper\u001B[39m\u001B[34m(*args, **kwargs)\u001B[39m\n\u001B[32m    187\u001B[39m global_skip_validation = get_config()[\u001B[33m\"\u001B[39m\u001B[33mskip_parameter_validation\u001B[39m\u001B[33m\"\u001B[39m]\n\u001B[32m    188\u001B[39m \u001B[38;5;28;01mif\u001B[39;00m global_skip_validation:\n\u001B[32m--> \u001B[39m\u001B[32m189\u001B[39m     \u001B[38;5;28;01mreturn\u001B[39;00m \u001B[43mfunc\u001B[49m\u001B[43m(\u001B[49m\u001B[43m*\u001B[49m\u001B[43margs\u001B[49m\u001B[43m,\u001B[49m\u001B[43m \u001B[49m\u001B[43m*\u001B[49m\u001B[43m*\u001B[49m\u001B[43mkwargs\u001B[49m\u001B[43m)\u001B[49m\n\u001B[32m    191\u001B[39m func_sig = signature(func)\n\u001B[32m    193\u001B[39m \u001B[38;5;66;03m# Map *args/**kwargs to the function signature\u001B[39;00m\n",
      "\u001B[36mFile \u001B[39m\u001B[32mC:\\Projet\\DATA ENGiNEERING\\data_warehouse\\.venv\\Lib\\site-packages\\sklearn\\metrics\\pairwise.py:1171\u001B[39m, in \u001B[36mcosine_distances\u001B[39m\u001B[34m(X, Y)\u001B[39m\n\u001B[32m   1168\u001B[39m xp, _ = get_namespace(X, Y)\n\u001B[32m   1170\u001B[39m \u001B[38;5;66;03m# 1.0 - cosine_similarity(X, Y) without copy\u001B[39;00m\n\u001B[32m-> \u001B[39m\u001B[32m1171\u001B[39m S = \u001B[43mcosine_similarity\u001B[49m\u001B[43m(\u001B[49m\u001B[43mX\u001B[49m\u001B[43m,\u001B[49m\u001B[43m \u001B[49m\u001B[43mY\u001B[49m\u001B[43m)\u001B[49m\n\u001B[32m   1172\u001B[39m S *= -\u001B[32m1\u001B[39m\n\u001B[32m   1173\u001B[39m S += \u001B[32m1\u001B[39m\n",
      "\u001B[36mFile \u001B[39m\u001B[32mC:\\Projet\\DATA ENGiNEERING\\data_warehouse\\.venv\\Lib\\site-packages\\sklearn\\utils\\_param_validation.py:189\u001B[39m, in \u001B[36mvalidate_params.<locals>.decorator.<locals>.wrapper\u001B[39m\u001B[34m(*args, **kwargs)\u001B[39m\n\u001B[32m    187\u001B[39m global_skip_validation = get_config()[\u001B[33m\"\u001B[39m\u001B[33mskip_parameter_validation\u001B[39m\u001B[33m\"\u001B[39m]\n\u001B[32m    188\u001B[39m \u001B[38;5;28;01mif\u001B[39;00m global_skip_validation:\n\u001B[32m--> \u001B[39m\u001B[32m189\u001B[39m     \u001B[38;5;28;01mreturn\u001B[39;00m \u001B[43mfunc\u001B[49m\u001B[43m(\u001B[49m\u001B[43m*\u001B[49m\u001B[43margs\u001B[49m\u001B[43m,\u001B[49m\u001B[43m \u001B[49m\u001B[43m*\u001B[49m\u001B[43m*\u001B[49m\u001B[43mkwargs\u001B[49m\u001B[43m)\u001B[49m\n\u001B[32m    191\u001B[39m func_sig = signature(func)\n\u001B[32m    193\u001B[39m \u001B[38;5;66;03m# Map *args/**kwargs to the function signature\u001B[39;00m\n",
      "\u001B[36mFile \u001B[39m\u001B[32mC:\\Projet\\DATA ENGiNEERING\\data_warehouse\\.venv\\Lib\\site-packages\\sklearn\\metrics\\pairwise.py:1749\u001B[39m, in \u001B[36mcosine_similarity\u001B[39m\u001B[34m(X, Y, dense_output)\u001B[39m\n\u001B[32m   1746\u001B[39m \u001B[38;5;28;01melse\u001B[39;00m:\n\u001B[32m   1747\u001B[39m     Y_normalized = normalize(Y, copy=\u001B[38;5;28;01mTrue\u001B[39;00m)\n\u001B[32m-> \u001B[39m\u001B[32m1749\u001B[39m K = \u001B[43msafe_sparse_dot\u001B[49m\u001B[43m(\u001B[49m\u001B[43mX_normalized\u001B[49m\u001B[43m,\u001B[49m\u001B[43m \u001B[49m\u001B[43mY_normalized\u001B[49m\u001B[43m.\u001B[49m\u001B[43mT\u001B[49m\u001B[43m,\u001B[49m\u001B[43m \u001B[49m\u001B[43mdense_output\u001B[49m\u001B[43m=\u001B[49m\u001B[43mdense_output\u001B[49m\u001B[43m)\u001B[49m\n\u001B[32m   1751\u001B[39m \u001B[38;5;28;01mreturn\u001B[39;00m K\n",
      "\u001B[36mFile \u001B[39m\u001B[32mC:\\Projet\\DATA ENGiNEERING\\data_warehouse\\.venv\\Lib\\site-packages\\sklearn\\utils\\extmath.py:211\u001B[39m, in \u001B[36msafe_sparse_dot\u001B[39m\u001B[34m(a, b, dense_output)\u001B[39m\n\u001B[32m    203\u001B[39m     ret = a @ b\n\u001B[32m    205\u001B[39m \u001B[38;5;28;01mif\u001B[39;00m (\n\u001B[32m    206\u001B[39m     sparse.issparse(a)\n\u001B[32m    207\u001B[39m     \u001B[38;5;129;01mand\u001B[39;00m sparse.issparse(b)\n\u001B[32m    208\u001B[39m     \u001B[38;5;129;01mand\u001B[39;00m dense_output\n\u001B[32m    209\u001B[39m     \u001B[38;5;129;01mand\u001B[39;00m \u001B[38;5;28mhasattr\u001B[39m(ret, \u001B[33m\"\u001B[39m\u001B[33mtoarray\u001B[39m\u001B[33m\"\u001B[39m)\n\u001B[32m    210\u001B[39m ):\n\u001B[32m--> \u001B[39m\u001B[32m211\u001B[39m     \u001B[38;5;28;01mreturn\u001B[39;00m \u001B[43mret\u001B[49m\u001B[43m.\u001B[49m\u001B[43mtoarray\u001B[49m\u001B[43m(\u001B[49m\u001B[43m)\u001B[49m\n\u001B[32m    212\u001B[39m \u001B[38;5;28;01mreturn\u001B[39;00m ret\n",
      "\u001B[36mFile \u001B[39m\u001B[32mC:\\Projet\\DATA ENGiNEERING\\data_warehouse\\.venv\\Lib\\site-packages\\scipy\\sparse\\_compressed.py:1170\u001B[39m, in \u001B[36m_cs_matrix.toarray\u001B[39m\u001B[34m(self, order, out)\u001B[39m\n\u001B[32m   1168\u001B[39m \u001B[38;5;28;01mif\u001B[39;00m out \u001B[38;5;129;01mis\u001B[39;00m \u001B[38;5;28;01mNone\u001B[39;00m \u001B[38;5;129;01mand\u001B[39;00m order \u001B[38;5;129;01mis\u001B[39;00m \u001B[38;5;28;01mNone\u001B[39;00m:\n\u001B[32m   1169\u001B[39m     order = \u001B[38;5;28mself\u001B[39m._swap(\u001B[33m'\u001B[39m\u001B[33mcf\u001B[39m\u001B[33m'\u001B[39m)[\u001B[32m0\u001B[39m]\n\u001B[32m-> \u001B[39m\u001B[32m1170\u001B[39m out = \u001B[38;5;28;43mself\u001B[39;49m\u001B[43m.\u001B[49m\u001B[43m_process_toarray_args\u001B[49m\u001B[43m(\u001B[49m\u001B[43morder\u001B[49m\u001B[43m,\u001B[49m\u001B[43m \u001B[49m\u001B[43mout\u001B[49m\u001B[43m)\u001B[49m\n\u001B[32m   1171\u001B[39m \u001B[38;5;28;01mif\u001B[39;00m \u001B[38;5;129;01mnot\u001B[39;00m (out.flags.c_contiguous \u001B[38;5;129;01mor\u001B[39;00m out.flags.f_contiguous):\n\u001B[32m   1172\u001B[39m     \u001B[38;5;28;01mraise\u001B[39;00m \u001B[38;5;167;01mValueError\u001B[39;00m(\u001B[33m'\u001B[39m\u001B[33mOutput array must be C or F contiguous\u001B[39m\u001B[33m'\u001B[39m)\n",
      "\u001B[36mFile \u001B[39m\u001B[32mC:\\Projet\\DATA ENGiNEERING\\data_warehouse\\.venv\\Lib\\site-packages\\scipy\\sparse\\_base.py:1367\u001B[39m, in \u001B[36m_spbase._process_toarray_args\u001B[39m\u001B[34m(self, order, out)\u001B[39m\n\u001B[32m   1365\u001B[39m     \u001B[38;5;28;01mreturn\u001B[39;00m out\n\u001B[32m   1366\u001B[39m \u001B[38;5;28;01melse\u001B[39;00m:\n\u001B[32m-> \u001B[39m\u001B[32m1367\u001B[39m     \u001B[38;5;28;01mreturn\u001B[39;00m \u001B[43mnp\u001B[49m\u001B[43m.\u001B[49m\u001B[43mzeros\u001B[49m\u001B[43m(\u001B[49m\u001B[38;5;28;43mself\u001B[39;49m\u001B[43m.\u001B[49m\u001B[43mshape\u001B[49m\u001B[43m,\u001B[49m\u001B[43m \u001B[49m\u001B[43mdtype\u001B[49m\u001B[43m=\u001B[49m\u001B[38;5;28;43mself\u001B[39;49m\u001B[43m.\u001B[49m\u001B[43mdtype\u001B[49m\u001B[43m,\u001B[49m\u001B[43m \u001B[49m\u001B[43morder\u001B[49m\u001B[43m=\u001B[49m\u001B[43morder\u001B[49m\u001B[43m)\u001B[49m\n",
      "\u001B[31mMemoryError\u001B[39m: Unable to allocate 1023. MiB for an array with shape (250, 536350) and data type float64"
     ]
    }
   ],
   "source": [],
   "metadata": {
    "collapsed": false,
    "ExecuteTime": {
     "end_time": "2025-03-08T23:42:16.734295Z",
     "start_time": "2025-03-08T23:40:01.404995Z"
    }
   },
   "id": "3fa57cdb960f5b10",
   "execution_count": 72
  },
  {
   "cell_type": "code",
   "outputs": [],
   "source": [],
   "metadata": {
    "collapsed": false
   },
   "id": "a4299be17c5c8da7"
  }
 ],
 "metadata": {
  "kernelspec": {
   "display_name": "Python 3",
   "language": "python",
   "name": "python3"
  },
  "language_info": {
   "codemirror_mode": {
    "name": "ipython",
    "version": 2
   },
   "file_extension": ".py",
   "mimetype": "text/x-python",
   "name": "python",
   "nbconvert_exporter": "python",
   "pygments_lexer": "ipython2",
   "version": "2.7.6"
  }
 },
 "nbformat": 4,
 "nbformat_minor": 5
}
